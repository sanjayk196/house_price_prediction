{
 "cells": [
  {
   "cell_type": "markdown",
   "id": "1fa34abb",
   "metadata": {},
   "source": [
    "## Because the Lack of Quality and insufficient data, the models' accuracy are low\n"
   ]
  },
  {
   "cell_type": "code",
   "execution_count": 3,
   "id": "82890be8",
   "metadata": {},
   "outputs": [],
   "source": [
    "import numpy as np\n",
    "import pandas as pd\n",
    "import matplotlib.pyplot as plt\n",
    "import seaborn as sns\n",
    "%matplotlib inline\n",
    "import warnings\n",
    "warnings.filterwarnings('ignore')"
   ]
  },
  {
   "cell_type": "code",
   "execution_count": 5,
   "id": "bd01f996",
   "metadata": {},
   "outputs": [],
   "source": [
    "df = pd.DataFrame({\n",
    "    'model':['linear_regression','ridge_model','decision_tree_regressor','extra_trees_regressor','bagging_regressor','AdaBoost_regressor','Gradient_boosting_regressor'],\n",
    "    'accuracy':[0.8191461537148859,0.6906977256982989,0.7334670728777759,0.8782517846922347,0.856216191825884,0.5541807074452969,0.8363254009018979]\n",
    "})"
   ]
  },
  {
   "cell_type": "code",
   "execution_count": 6,
   "id": "52ad2742",
   "metadata": {},
   "outputs": [
    {
     "data": {
      "text/html": [
       "<div>\n",
       "<style scoped>\n",
       "    .dataframe tbody tr th:only-of-type {\n",
       "        vertical-align: middle;\n",
       "    }\n",
       "\n",
       "    .dataframe tbody tr th {\n",
       "        vertical-align: top;\n",
       "    }\n",
       "\n",
       "    .dataframe thead th {\n",
       "        text-align: right;\n",
       "    }\n",
       "</style>\n",
       "<table border=\"1\" class=\"dataframe\">\n",
       "  <thead>\n",
       "    <tr style=\"text-align: right;\">\n",
       "      <th></th>\n",
       "      <th>model</th>\n",
       "      <th>accuracy</th>\n",
       "    </tr>\n",
       "  </thead>\n",
       "  <tbody>\n",
       "    <tr>\n",
       "      <th>0</th>\n",
       "      <td>linear_regression</td>\n",
       "      <td>0.819146</td>\n",
       "    </tr>\n",
       "    <tr>\n",
       "      <th>1</th>\n",
       "      <td>ridge_model</td>\n",
       "      <td>0.690698</td>\n",
       "    </tr>\n",
       "    <tr>\n",
       "      <th>2</th>\n",
       "      <td>decision_tree_regressor</td>\n",
       "      <td>0.733467</td>\n",
       "    </tr>\n",
       "    <tr>\n",
       "      <th>3</th>\n",
       "      <td>extra_trees_regressor</td>\n",
       "      <td>0.878252</td>\n",
       "    </tr>\n",
       "    <tr>\n",
       "      <th>4</th>\n",
       "      <td>bagging_regressor</td>\n",
       "      <td>0.856216</td>\n",
       "    </tr>\n",
       "    <tr>\n",
       "      <th>5</th>\n",
       "      <td>AdaBoost_regressor</td>\n",
       "      <td>0.554181</td>\n",
       "    </tr>\n",
       "    <tr>\n",
       "      <th>6</th>\n",
       "      <td>Gradient_boosting_regressor</td>\n",
       "      <td>0.836325</td>\n",
       "    </tr>\n",
       "  </tbody>\n",
       "</table>\n",
       "</div>"
      ],
      "text/plain": [
       "                         model  accuracy\n",
       "0            linear_regression  0.819146\n",
       "1                  ridge_model  0.690698\n",
       "2      decision_tree_regressor  0.733467\n",
       "3        extra_trees_regressor  0.878252\n",
       "4            bagging_regressor  0.856216\n",
       "5           AdaBoost_regressor  0.554181\n",
       "6  Gradient_boosting_regressor  0.836325"
      ]
     },
     "execution_count": 6,
     "metadata": {},
     "output_type": "execute_result"
    }
   ],
   "source": [
    "df"
   ]
  },
  {
   "cell_type": "code",
   "execution_count": 11,
   "id": "e9f14548",
   "metadata": {},
   "outputs": [
    {
     "data": {
      "text/plain": [
       "<AxesSubplot:xlabel='model', ylabel='accuracy'>"
      ]
     },
     "execution_count": 11,
     "metadata": {},
     "output_type": "execute_result"
    },
    {
     "data": {
      "image/png": "[encoded data removed]",
      "text/plain": [
       "<Figure size 1080x432 with 1 Axes>"
      ]
     },
     "metadata": {
      "needs_background": "light"
     },
     "output_type": "display_data"
    }
   ],
   "source": [
    "plt.figure(figsize=(15,6))\n",
    "\n",
    "sns.barplot(x='model',\n",
    "            y=\"accuracy\", data=df,\n",
    "            order=df.sort_values('accuracy').model)"
   ]
  },
  {
   "cell_type": "markdown",
   "id": "3abb48bd",
   "metadata": {},
   "source": [
    "## by accuracy, the best models are - \n",
    "\n",
    "### -- extra tree regressor\n",
    "\n",
    "### -- bagging regressor\n",
    "\n",
    "### -- gradient boosting regressor\n",
    "\n",
    "### -- linear regression\n",
    "\n",
    "### -- decision tree regressor\n",
    "\n",
    "### -- ridge model\n",
    "\n",
    "### -- adaboost regressor\n",
    "\n"
   ]
  },
  {
   "cell_type": "code",
   "execution_count": null,
   "id": "91150e88",
   "metadata": {},
   "outputs": [],
   "source": []
  }
 ],
 "metadata": {
  "kernelspec": {
   "display_name": "Python 3 (ipykernel)",
   "language": "python",
   "name": "python3"
  },
  "language_info": {
   "codemirror_mode": {
    "name": "ipython",
    "version": 3
   },
   "file_extension": ".py",
   "mimetype": "text/x-python",
   "name": "python",
   "nbconvert_exporter": "python",
   "pygments_lexer": "ipython3",
   "version": "3.9.7"
  }
 },
 "nbformat": 4,
 "nbformat_minor": 5
}
