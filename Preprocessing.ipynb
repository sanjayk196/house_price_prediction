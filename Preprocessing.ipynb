{
 "cells": [
  {
   "cell_type": "code",
   "execution_count": 1,
   "id": "20a01627",
   "metadata": {},
   "outputs": [],
   "source": [
    "import numpy as np\n",
    "import pandas as pd\n",
    "import matplotlib.pyplot as plt\n",
    "import seaborn as sns\n",
    "%matplotlib inline\n",
    "import warnings\n",
    "warnings.filterwarnings(\"ignore\")"
   ]
  },
  {
   "cell_type": "code",
   "execution_count": 2,
   "id": "1827b45d",
   "metadata": {},
   "outputs": [],
   "source": [
    "data = pd.read_csv(\"Raw_Housing_Prices.csv\")"
   ]
  },
  {
   "cell_type": "code",
   "execution_count": 3,
   "id": "c315d1ec",
   "metadata": {},
   "outputs": [
    {
     "data": {
      "text/html": [
       "<div>\n",
       "<style scoped>\n",
       "    .dataframe tbody tr th:only-of-type {\n",
       "        vertical-align: middle;\n",
       "    }\n",
       "\n",
       "    .dataframe tbody tr th {\n",
       "        vertical-align: top;\n",
       "    }\n",
       "\n",
       "    .dataframe thead th {\n",
       "        text-align: right;\n",
       "    }\n",
       "</style>\n",
       "<table border=\"1\" class=\"dataframe\">\n",
       "  <thead>\n",
       "    <tr style=\"text-align: right;\">\n",
       "      <th></th>\n",
       "      <th>ID</th>\n",
       "      <th>Date House was Sold</th>\n",
       "      <th>Sale Price</th>\n",
       "      <th>No of Bedrooms</th>\n",
       "      <th>No of Bathrooms</th>\n",
       "      <th>Flat Area (in Sqft)</th>\n",
       "      <th>Lot Area (in Sqft)</th>\n",
       "      <th>No of Floors</th>\n",
       "      <th>Waterfront View</th>\n",
       "      <th>No of Times Visited</th>\n",
       "      <th>...</th>\n",
       "      <th>Overall Grade</th>\n",
       "      <th>Area of the House from Basement (in Sqft)</th>\n",
       "      <th>Basement Area (in Sqft)</th>\n",
       "      <th>Age of House (in Years)</th>\n",
       "      <th>Renovated Year</th>\n",
       "      <th>Zipcode</th>\n",
       "      <th>Latitude</th>\n",
       "      <th>Longitude</th>\n",
       "      <th>Living Area after Renovation (in Sqft)</th>\n",
       "      <th>Lot Area after Renovation (in Sqft)</th>\n",
       "    </tr>\n",
       "  </thead>\n",
       "  <tbody>\n",
       "    <tr>\n",
       "      <th>0</th>\n",
       "      <td>7129300520</td>\n",
       "      <td>14 October 2017</td>\n",
       "      <td>221900.0</td>\n",
       "      <td>3</td>\n",
       "      <td>1.00</td>\n",
       "      <td>1180.0</td>\n",
       "      <td>5650.0</td>\n",
       "      <td>1.0</td>\n",
       "      <td>No</td>\n",
       "      <td>None</td>\n",
       "      <td>...</td>\n",
       "      <td>7</td>\n",
       "      <td>1180.0</td>\n",
       "      <td>0</td>\n",
       "      <td>63</td>\n",
       "      <td>0</td>\n",
       "      <td>98178.0</td>\n",
       "      <td>47.5112</td>\n",
       "      <td>-122.257</td>\n",
       "      <td>1340.0</td>\n",
       "      <td>5650</td>\n",
       "    </tr>\n",
       "    <tr>\n",
       "      <th>1</th>\n",
       "      <td>6414100192</td>\n",
       "      <td>14 December 2017</td>\n",
       "      <td>538000.0</td>\n",
       "      <td>3</td>\n",
       "      <td>2.25</td>\n",
       "      <td>2570.0</td>\n",
       "      <td>7242.0</td>\n",
       "      <td>2.0</td>\n",
       "      <td>No</td>\n",
       "      <td>None</td>\n",
       "      <td>...</td>\n",
       "      <td>7</td>\n",
       "      <td>2170.0</td>\n",
       "      <td>400</td>\n",
       "      <td>67</td>\n",
       "      <td>1991</td>\n",
       "      <td>98125.0</td>\n",
       "      <td>47.7210</td>\n",
       "      <td>-122.319</td>\n",
       "      <td>1690.0</td>\n",
       "      <td>7639</td>\n",
       "    </tr>\n",
       "    <tr>\n",
       "      <th>2</th>\n",
       "      <td>5631500400</td>\n",
       "      <td>15 February 2016</td>\n",
       "      <td>180000.0</td>\n",
       "      <td>2</td>\n",
       "      <td>1.00</td>\n",
       "      <td>770.0</td>\n",
       "      <td>10000.0</td>\n",
       "      <td>1.0</td>\n",
       "      <td>No</td>\n",
       "      <td>None</td>\n",
       "      <td>...</td>\n",
       "      <td>6</td>\n",
       "      <td>770.0</td>\n",
       "      <td>0</td>\n",
       "      <td>85</td>\n",
       "      <td>0</td>\n",
       "      <td>98028.0</td>\n",
       "      <td>47.7379</td>\n",
       "      <td>-122.233</td>\n",
       "      <td>2720.0</td>\n",
       "      <td>8062</td>\n",
       "    </tr>\n",
       "    <tr>\n",
       "      <th>3</th>\n",
       "      <td>2487200875</td>\n",
       "      <td>14 December 2017</td>\n",
       "      <td>604000.0</td>\n",
       "      <td>4</td>\n",
       "      <td>3.00</td>\n",
       "      <td>1960.0</td>\n",
       "      <td>5000.0</td>\n",
       "      <td>1.0</td>\n",
       "      <td>No</td>\n",
       "      <td>None</td>\n",
       "      <td>...</td>\n",
       "      <td>7</td>\n",
       "      <td>1050.0</td>\n",
       "      <td>910</td>\n",
       "      <td>53</td>\n",
       "      <td>0</td>\n",
       "      <td>98136.0</td>\n",
       "      <td>47.5208</td>\n",
       "      <td>-122.393</td>\n",
       "      <td>1360.0</td>\n",
       "      <td>5000</td>\n",
       "    </tr>\n",
       "    <tr>\n",
       "      <th>4</th>\n",
       "      <td>1954400510</td>\n",
       "      <td>15 February 2016</td>\n",
       "      <td>510000.0</td>\n",
       "      <td>3</td>\n",
       "      <td>2.00</td>\n",
       "      <td>1680.0</td>\n",
       "      <td>8080.0</td>\n",
       "      <td>1.0</td>\n",
       "      <td>No</td>\n",
       "      <td>None</td>\n",
       "      <td>...</td>\n",
       "      <td>8</td>\n",
       "      <td>1680.0</td>\n",
       "      <td>0</td>\n",
       "      <td>31</td>\n",
       "      <td>0</td>\n",
       "      <td>98074.0</td>\n",
       "      <td>47.6168</td>\n",
       "      <td>-122.045</td>\n",
       "      <td>1800.0</td>\n",
       "      <td>7503</td>\n",
       "    </tr>\n",
       "  </tbody>\n",
       "</table>\n",
       "<p>5 rows × 21 columns</p>\n",
       "</div>"
      ],
      "text/plain": [
       "           ID Date House was Sold  Sale Price  No of Bedrooms  \\\n",
       "0  7129300520     14 October 2017    221900.0               3   \n",
       "1  6414100192    14 December 2017    538000.0               3   \n",
       "2  5631500400    15 February 2016    180000.0               2   \n",
       "3  2487200875    14 December 2017    604000.0               4   \n",
       "4  1954400510    15 February 2016    510000.0               3   \n",
       "\n",
       "   No of Bathrooms  Flat Area (in Sqft)  Lot Area (in Sqft)  No of Floors  \\\n",
       "0             1.00               1180.0              5650.0           1.0   \n",
       "1             2.25               2570.0              7242.0           2.0   \n",
       "2             1.00                770.0             10000.0           1.0   \n",
       "3             3.00               1960.0              5000.0           1.0   \n",
       "4             2.00               1680.0              8080.0           1.0   \n",
       "\n",
       "  Waterfront View No of Times Visited  ... Overall Grade  \\\n",
       "0              No                None  ...             7   \n",
       "1              No                None  ...             7   \n",
       "2              No                None  ...             6   \n",
       "3              No                None  ...             7   \n",
       "4              No                None  ...             8   \n",
       "\n",
       "   Area of the House from Basement (in Sqft)  Basement Area (in Sqft)  \\\n",
       "0                                     1180.0                        0   \n",
       "1                                     2170.0                      400   \n",
       "2                                      770.0                        0   \n",
       "3                                     1050.0                      910   \n",
       "4                                     1680.0                        0   \n",
       "\n",
       "   Age of House (in Years)  Renovated Year  Zipcode  Latitude  Longitude  \\\n",
       "0                       63               0  98178.0   47.5112   -122.257   \n",
       "1                       67            1991  98125.0   47.7210   -122.319   \n",
       "2                       85               0  98028.0   47.7379   -122.233   \n",
       "3                       53               0  98136.0   47.5208   -122.393   \n",
       "4                       31               0  98074.0   47.6168   -122.045   \n",
       "\n",
       "   Living Area after Renovation (in Sqft)  Lot Area after Renovation (in Sqft)  \n",
       "0                                  1340.0                                 5650  \n",
       "1                                  1690.0                                 7639  \n",
       "2                                  2720.0                                 8062  \n",
       "3                                  1360.0                                 5000  \n",
       "4                                  1800.0                                 7503  \n",
       "\n",
       "[5 rows x 21 columns]"
      ]
     },
     "execution_count": 3,
     "metadata": {},
     "output_type": "execute_result"
    }
   ],
   "source": [
    "data.head()"
   ]
  },
  {
   "cell_type": "code",
   "execution_count": 4,
   "id": "ba793b6e",
   "metadata": {},
   "outputs": [
    {
     "data": {
      "text/plain": [
       "RangeIndex(start=0, stop=21613, step=1)"
      ]
     },
     "execution_count": 4,
     "metadata": {},
     "output_type": "execute_result"
    }
   ],
   "source": [
    "data.index"
   ]
  },
  {
   "cell_type": "code",
   "execution_count": 5,
   "id": "c50401f3",
   "metadata": {},
   "outputs": [
    {
     "data": {
      "text/plain": [
       "(21613, 21)"
      ]
     },
     "execution_count": 5,
     "metadata": {},
     "output_type": "execute_result"
    }
   ],
   "source": [
    "data.shape"
   ]
  },
  {
   "cell_type": "code",
   "execution_count": 6,
   "id": "640b07e3",
   "metadata": {},
   "outputs": [
    {
     "data": {
      "text/plain": [
       "Index(['ID', 'Date House was Sold', 'Sale Price', 'No of Bedrooms',\n",
       "       'No of Bathrooms', 'Flat Area (in Sqft)', 'Lot Area (in Sqft)',\n",
       "       'No of Floors', 'Waterfront View', 'No of Times Visited',\n",
       "       'Condition of the House', 'Overall Grade',\n",
       "       'Area of the House from Basement (in Sqft)', 'Basement Area (in Sqft)',\n",
       "       'Age of House (in Years)', 'Renovated Year', 'Zipcode', 'Latitude',\n",
       "       'Longitude', 'Living Area after Renovation (in Sqft)',\n",
       "       'Lot Area after Renovation (in Sqft)'],\n",
       "      dtype='object')"
      ]
     },
     "execution_count": 6,
     "metadata": {},
     "output_type": "execute_result"
    }
   ],
   "source": [
    "data.columns"
   ]
  },
  {
   "cell_type": "code",
   "execution_count": 7,
   "id": "736dc964",
   "metadata": {},
   "outputs": [
    {
     "data": {
      "text/plain": [
       "0    221900.0\n",
       "1    538000.0\n",
       "2    180000.0\n",
       "3    604000.0\n",
       "4    510000.0\n",
       "Name: Sale Price, dtype: float64"
      ]
     },
     "execution_count": 7,
     "metadata": {},
     "output_type": "execute_result"
    }
   ],
   "source": [
    "data['Sale Price'].head()"
   ]
  },
  {
   "cell_type": "code",
   "execution_count": 8,
   "id": "ac8a7925",
   "metadata": {},
   "outputs": [
    {
     "data": {
      "text/plain": [
       "15462    334000.0\n",
       "15878    265000.0\n",
       "11698    315000.0\n",
       "12267    570000.0\n",
       "21303    465000.0\n",
       "Name: Sale Price, dtype: float64"
      ]
     },
     "execution_count": 8,
     "metadata": {},
     "output_type": "execute_result"
    }
   ],
   "source": [
    "data['Sale Price'].sample(5)"
   ]
  },
  {
   "cell_type": "code",
   "execution_count": 9,
   "id": "768e104f",
   "metadata": {},
   "outputs": [
    {
     "data": {
      "text/plain": [
       "ID                                           0\n",
       "Date House was Sold                          0\n",
       "Sale Price                                   4\n",
       "No of Bedrooms                               0\n",
       "No of Bathrooms                              4\n",
       "Flat Area (in Sqft)                          9\n",
       "Lot Area (in Sqft)                           9\n",
       "No of Floors                                 0\n",
       "Waterfront View                              0\n",
       "No of Times Visited                          0\n",
       "Condition of the House                       0\n",
       "Overall Grade                                0\n",
       "Area of the House from Basement (in Sqft)    3\n",
       "Basement Area (in Sqft)                      0\n",
       "Age of House (in Years)                      0\n",
       "Renovated Year                               0\n",
       "Zipcode                                      1\n",
       "Latitude                                     1\n",
       "Longitude                                    1\n",
       "Living Area after Renovation (in Sqft)       1\n",
       "Lot Area after Renovation (in Sqft)          0\n",
       "dtype: int64"
      ]
     },
     "execution_count": 9,
     "metadata": {},
     "output_type": "execute_result"
    }
   ],
   "source": [
    "data.isna().sum()"
   ]
  },
  {
   "cell_type": "markdown",
   "id": "9f2b7a01",
   "metadata": {},
   "source": [
    "## target variable has 4 missing values\n"
   ]
  },
  {
   "cell_type": "markdown",
   "id": "884a07a3",
   "metadata": {},
   "source": [
    "#### we have to remove all missing values"
   ]
  },
  {
   "cell_type": "markdown",
   "id": "91b6dc06",
   "metadata": {},
   "source": [
    "### first check the data types and statistical discription of target variable"
   ]
  },
  {
   "cell_type": "code",
   "execution_count": 10,
   "id": "1296f3cb",
   "metadata": {},
   "outputs": [
    {
     "data": {
      "text/plain": [
       "dtype('float64')"
      ]
     },
     "execution_count": 10,
     "metadata": {},
     "output_type": "execute_result"
    }
   ],
   "source": [
    "data['Sale Price'].dtypes"
   ]
  },
  {
   "cell_type": "code",
   "execution_count": 11,
   "id": "6fa98f01",
   "metadata": {},
   "outputs": [
    {
     "data": {
      "text/plain": [
       "count    2.160900e+04\n",
       "mean     5.401984e+05\n",
       "std      3.673890e+05\n",
       "min      7.500000e+04\n",
       "25%      3.219500e+05\n",
       "50%      4.500000e+05\n",
       "75%      6.450000e+05\n",
       "max      7.700000e+06\n",
       "Name: Sale Price, dtype: float64"
      ]
     },
     "execution_count": 11,
     "metadata": {},
     "output_type": "execute_result"
    }
   ],
   "source": [
    "data['Sale Price'].describe()"
   ]
  },
  {
   "cell_type": "markdown",
   "id": "671c02aa",
   "metadata": {},
   "source": [
    "#### deleting missing values"
   ]
  },
  {
   "cell_type": "code",
   "execution_count": 12,
   "id": "d5b85adc",
   "metadata": {},
   "outputs": [],
   "source": [
    "data.dropna(subset=['Sale Price'],axis=0,inplace=True)"
   ]
  },
  {
   "cell_type": "code",
   "execution_count": 13,
   "id": "e9dc8b99",
   "metadata": {},
   "outputs": [
    {
     "data": {
      "text/plain": [
       "0    221900.0\n",
       "1    538000.0\n",
       "2    180000.0\n",
       "3    604000.0\n",
       "4    510000.0\n",
       "Name: Sale Price, dtype: float64"
      ]
     },
     "execution_count": 13,
     "metadata": {},
     "output_type": "execute_result"
    }
   ],
   "source": [
    "data['Sale Price'].head()"
   ]
  },
  {
   "cell_type": "code",
   "execution_count": 14,
   "id": "5e166a30",
   "metadata": {},
   "outputs": [
    {
     "data": {
      "text/plain": [
       "0"
      ]
     },
     "execution_count": 14,
     "metadata": {},
     "output_type": "execute_result"
    }
   ],
   "source": [
    "data['Sale Price'].isna().sum()"
   ]
  },
  {
   "cell_type": "markdown",
   "id": "6293c7a1",
   "metadata": {},
   "source": [
    "## treating outliers"
   ]
  },
  {
   "cell_type": "code",
   "execution_count": 15,
   "id": "ec8b04d1",
   "metadata": {},
   "outputs": [
    {
     "data": {
      "text/plain": [
       "<seaborn.axisgrid.FacetGrid at 0x13119ad7a30>"
      ]
     },
     "execution_count": 15,
     "metadata": {},
     "output_type": "execute_result"
    },
    {
     "data": {
      "image/png": "[encoded data removed]",
      "text/plain": [
       "<Figure size 360x360 with 1 Axes>"
      ]
     },
     "metadata": {
      "needs_background": "light"
     },
     "output_type": "display_data"
    }
   ],
   "source": [
    "sns.displot(x=data['Sale Price'])"
   ]
  },
  {
   "cell_type": "code",
   "execution_count": 16,
   "id": "22c34a06",
   "metadata": {},
   "outputs": [
    {
     "data": {
      "text/plain": [
       "<AxesSubplot:xlabel='Sale Price', ylabel='Count'>"
      ]
     },
     "execution_count": 16,
     "metadata": {},
     "output_type": "execute_result"
    },
    {
     "data": {
      "image/png": "[encoded data removed]",
      "text/plain": [
       "<Figure size 432x288 with 1 Axes>"
      ]
     },
     "metadata": {
      "needs_background": "light"
     },
     "output_type": "display_data"
    }
   ],
   "source": [
    "sns.histplot(data['Sale Price'],bins=150)"
   ]
  },
  {
   "cell_type": "code",
   "execution_count": 17,
   "id": "463e7100",
   "metadata": {},
   "outputs": [
    {
     "data": {
      "text/plain": [
       "<AxesSubplot:ylabel='Sale Price'>"
      ]
     },
     "execution_count": 17,
     "metadata": {},
     "output_type": "execute_result"
    },
    {
     "data": {
      "image/png": "[encoded data removed]",
      "text/plain": [
       "<Figure size 432x288 with 1 Axes>"
      ]
     },
     "metadata": {
      "needs_background": "light"
     },
     "output_type": "display_data"
    }
   ],
   "source": [
    "sns.boxplot(y=data['Sale Price'])"
   ]
  },
  {
   "cell_type": "code",
   "execution_count": 18,
   "id": "a4d2c174",
   "metadata": {},
   "outputs": [],
   "source": [
    "q1,q3 = data['Sale Price'].quantile([0.25,0.75])\n",
    "iqr = q3-q1\n",
    "lw = q1-1.5*iqr\n",
    "up = q3+.5*iqr\n",
    "\n",
    "\n",
    "\n",
    "def outliers(values):\n",
    "    if values>up:\n",
    "        return up\n",
    "    elif values<lw:\n",
    "        return lw\n",
    "    else:\n",
    "        return values"
   ]
  },
  {
   "cell_type": "code",
   "execution_count": 19,
   "id": "61d9fa28",
   "metadata": {},
   "outputs": [],
   "source": [
    "data['Sale Price'] = data['Sale Price'].apply(outliers)"
   ]
  },
  {
   "cell_type": "code",
   "execution_count": 20,
   "id": "088ee329",
   "metadata": {},
   "outputs": [
    {
     "data": {
      "text/plain": [
       "<AxesSubplot:ylabel='Sale Price'>"
      ]
     },
     "execution_count": 20,
     "metadata": {},
     "output_type": "execute_result"
    },
    {
     "data": {
      "image/png": "[encoded data removed]",
      "text/plain": [
       "<Figure size 432x288 with 1 Axes>"
      ]
     },
     "metadata": {
      "needs_background": "light"
     },
     "output_type": "display_data"
    }
   ],
   "source": [
    "sns.boxplot(y=data['Sale Price'])"
   ]
  },
  {
   "cell_type": "code",
   "execution_count": 21,
   "id": "02d9d062",
   "metadata": {},
   "outputs": [
    {
     "data": {
      "text/plain": [
       "<AxesSubplot:xlabel='Sale Price', ylabel='Count'>"
      ]
     },
     "execution_count": 21,
     "metadata": {},
     "output_type": "execute_result"
    },
    {
     "data": {
      "image/png": "[encoded data removed]",
      "text/plain": [
       "<Figure size 432x288 with 1 Axes>"
      ]
     },
     "metadata": {
      "needs_background": "light"
     },
     "output_type": "display_data"
    }
   ],
   "source": [
    "sns.histplot(data['Sale Price'],bins=20,kde=True)"
   ]
  },
  {
   "cell_type": "markdown",
   "id": "46c425a3",
   "metadata": {},
   "source": [
    "## treating missing values in independent features"
   ]
  },
  {
   "cell_type": "code",
   "execution_count": 22,
   "id": "72c6d41d",
   "metadata": {},
   "outputs": [
    {
     "data": {
      "text/html": [
       "<div>\n",
       "<style scoped>\n",
       "    .dataframe tbody tr th:only-of-type {\n",
       "        vertical-align: middle;\n",
       "    }\n",
       "\n",
       "    .dataframe tbody tr th {\n",
       "        vertical-align: top;\n",
       "    }\n",
       "\n",
       "    .dataframe thead th {\n",
       "        text-align: right;\n",
       "    }\n",
       "</style>\n",
       "<table border=\"1\" class=\"dataframe\">\n",
       "  <thead>\n",
       "    <tr style=\"text-align: right;\">\n",
       "      <th></th>\n",
       "      <th>ID</th>\n",
       "      <th>Date House was Sold</th>\n",
       "      <th>Sale Price</th>\n",
       "      <th>No of Bedrooms</th>\n",
       "      <th>No of Bathrooms</th>\n",
       "      <th>Flat Area (in Sqft)</th>\n",
       "      <th>Lot Area (in Sqft)</th>\n",
       "      <th>No of Floors</th>\n",
       "      <th>Waterfront View</th>\n",
       "      <th>No of Times Visited</th>\n",
       "      <th>...</th>\n",
       "      <th>Overall Grade</th>\n",
       "      <th>Area of the House from Basement (in Sqft)</th>\n",
       "      <th>Basement Area (in Sqft)</th>\n",
       "      <th>Age of House (in Years)</th>\n",
       "      <th>Renovated Year</th>\n",
       "      <th>Zipcode</th>\n",
       "      <th>Latitude</th>\n",
       "      <th>Longitude</th>\n",
       "      <th>Living Area after Renovation (in Sqft)</th>\n",
       "      <th>Lot Area after Renovation (in Sqft)</th>\n",
       "    </tr>\n",
       "  </thead>\n",
       "  <tbody>\n",
       "    <tr>\n",
       "      <th>0</th>\n",
       "      <td>7129300520</td>\n",
       "      <td>14 October 2017</td>\n",
       "      <td>221900.0</td>\n",
       "      <td>3</td>\n",
       "      <td>1.00</td>\n",
       "      <td>1180.0</td>\n",
       "      <td>5650.0</td>\n",
       "      <td>1.0</td>\n",
       "      <td>No</td>\n",
       "      <td>None</td>\n",
       "      <td>...</td>\n",
       "      <td>7</td>\n",
       "      <td>1180.0</td>\n",
       "      <td>0</td>\n",
       "      <td>63</td>\n",
       "      <td>0</td>\n",
       "      <td>98178.0</td>\n",
       "      <td>47.5112</td>\n",
       "      <td>-122.257</td>\n",
       "      <td>1340.0</td>\n",
       "      <td>5650</td>\n",
       "    </tr>\n",
       "    <tr>\n",
       "      <th>1</th>\n",
       "      <td>6414100192</td>\n",
       "      <td>14 December 2017</td>\n",
       "      <td>538000.0</td>\n",
       "      <td>3</td>\n",
       "      <td>2.25</td>\n",
       "      <td>2570.0</td>\n",
       "      <td>7242.0</td>\n",
       "      <td>2.0</td>\n",
       "      <td>No</td>\n",
       "      <td>None</td>\n",
       "      <td>...</td>\n",
       "      <td>7</td>\n",
       "      <td>2170.0</td>\n",
       "      <td>400</td>\n",
       "      <td>67</td>\n",
       "      <td>1991</td>\n",
       "      <td>98125.0</td>\n",
       "      <td>47.7210</td>\n",
       "      <td>-122.319</td>\n",
       "      <td>1690.0</td>\n",
       "      <td>7639</td>\n",
       "    </tr>\n",
       "    <tr>\n",
       "      <th>2</th>\n",
       "      <td>5631500400</td>\n",
       "      <td>15 February 2016</td>\n",
       "      <td>180000.0</td>\n",
       "      <td>2</td>\n",
       "      <td>1.00</td>\n",
       "      <td>770.0</td>\n",
       "      <td>10000.0</td>\n",
       "      <td>1.0</td>\n",
       "      <td>No</td>\n",
       "      <td>None</td>\n",
       "      <td>...</td>\n",
       "      <td>6</td>\n",
       "      <td>770.0</td>\n",
       "      <td>0</td>\n",
       "      <td>85</td>\n",
       "      <td>0</td>\n",
       "      <td>98028.0</td>\n",
       "      <td>47.7379</td>\n",
       "      <td>-122.233</td>\n",
       "      <td>2720.0</td>\n",
       "      <td>8062</td>\n",
       "    </tr>\n",
       "    <tr>\n",
       "      <th>3</th>\n",
       "      <td>2487200875</td>\n",
       "      <td>14 December 2017</td>\n",
       "      <td>604000.0</td>\n",
       "      <td>4</td>\n",
       "      <td>3.00</td>\n",
       "      <td>1960.0</td>\n",
       "      <td>5000.0</td>\n",
       "      <td>1.0</td>\n",
       "      <td>No</td>\n",
       "      <td>None</td>\n",
       "      <td>...</td>\n",
       "      <td>7</td>\n",
       "      <td>1050.0</td>\n",
       "      <td>910</td>\n",
       "      <td>53</td>\n",
       "      <td>0</td>\n",
       "      <td>98136.0</td>\n",
       "      <td>47.5208</td>\n",
       "      <td>-122.393</td>\n",
       "      <td>1360.0</td>\n",
       "      <td>5000</td>\n",
       "    </tr>\n",
       "    <tr>\n",
       "      <th>4</th>\n",
       "      <td>1954400510</td>\n",
       "      <td>15 February 2016</td>\n",
       "      <td>510000.0</td>\n",
       "      <td>3</td>\n",
       "      <td>2.00</td>\n",
       "      <td>1680.0</td>\n",
       "      <td>8080.0</td>\n",
       "      <td>1.0</td>\n",
       "      <td>No</td>\n",
       "      <td>None</td>\n",
       "      <td>...</td>\n",
       "      <td>8</td>\n",
       "      <td>1680.0</td>\n",
       "      <td>0</td>\n",
       "      <td>31</td>\n",
       "      <td>0</td>\n",
       "      <td>98074.0</td>\n",
       "      <td>47.6168</td>\n",
       "      <td>-122.045</td>\n",
       "      <td>1800.0</td>\n",
       "      <td>7503</td>\n",
       "    </tr>\n",
       "  </tbody>\n",
       "</table>\n",
       "<p>5 rows × 21 columns</p>\n",
       "</div>"
      ],
      "text/plain": [
       "           ID Date House was Sold  Sale Price  No of Bedrooms  \\\n",
       "0  7129300520     14 October 2017    221900.0               3   \n",
       "1  6414100192    14 December 2017    538000.0               3   \n",
       "2  5631500400    15 February 2016    180000.0               2   \n",
       "3  2487200875    14 December 2017    604000.0               4   \n",
       "4  1954400510    15 February 2016    510000.0               3   \n",
       "\n",
       "   No of Bathrooms  Flat Area (in Sqft)  Lot Area (in Sqft)  No of Floors  \\\n",
       "0             1.00               1180.0              5650.0           1.0   \n",
       "1             2.25               2570.0              7242.0           2.0   \n",
       "2             1.00                770.0             10000.0           1.0   \n",
       "3             3.00               1960.0              5000.0           1.0   \n",
       "4             2.00               1680.0              8080.0           1.0   \n",
       "\n",
       "  Waterfront View No of Times Visited  ... Overall Grade  \\\n",
       "0              No                None  ...             7   \n",
       "1              No                None  ...             7   \n",
       "2              No                None  ...             6   \n",
       "3              No                None  ...             7   \n",
       "4              No                None  ...             8   \n",
       "\n",
       "   Area of the House from Basement (in Sqft)  Basement Area (in Sqft)  \\\n",
       "0                                     1180.0                        0   \n",
       "1                                     2170.0                      400   \n",
       "2                                      770.0                        0   \n",
       "3                                     1050.0                      910   \n",
       "4                                     1680.0                        0   \n",
       "\n",
       "   Age of House (in Years)  Renovated Year  Zipcode  Latitude  Longitude  \\\n",
       "0                       63               0  98178.0   47.5112   -122.257   \n",
       "1                       67            1991  98125.0   47.7210   -122.319   \n",
       "2                       85               0  98028.0   47.7379   -122.233   \n",
       "3                       53               0  98136.0   47.5208   -122.393   \n",
       "4                       31               0  98074.0   47.6168   -122.045   \n",
       "\n",
       "   Living Area after Renovation (in Sqft)  Lot Area after Renovation (in Sqft)  \n",
       "0                                  1340.0                                 5650  \n",
       "1                                  1690.0                                 7639  \n",
       "2                                  2720.0                                 8062  \n",
       "3                                  1360.0                                 5000  \n",
       "4                                  1800.0                                 7503  \n",
       "\n",
       "[5 rows x 21 columns]"
      ]
     },
     "execution_count": 22,
     "metadata": {},
     "output_type": "execute_result"
    }
   ],
   "source": [
    "data.head()"
   ]
  },
  {
   "cell_type": "code",
   "execution_count": 23,
   "id": "815d9401",
   "metadata": {},
   "outputs": [
    {
     "data": {
      "text/plain": [
       "ID                                           0\n",
       "Date House was Sold                          0\n",
       "Sale Price                                   0\n",
       "No of Bedrooms                               0\n",
       "No of Bathrooms                              4\n",
       "Flat Area (in Sqft)                          9\n",
       "Lot Area (in Sqft)                           9\n",
       "No of Floors                                 0\n",
       "Waterfront View                              0\n",
       "No of Times Visited                          0\n",
       "Condition of the House                       0\n",
       "Overall Grade                                0\n",
       "Area of the House from Basement (in Sqft)    3\n",
       "Basement Area (in Sqft)                      0\n",
       "Age of House (in Years)                      0\n",
       "Renovated Year                               0\n",
       "Zipcode                                      1\n",
       "Latitude                                     1\n",
       "Longitude                                    1\n",
       "Living Area after Renovation (in Sqft)       1\n",
       "Lot Area after Renovation (in Sqft)          0\n",
       "dtype: int64"
      ]
     },
     "execution_count": 23,
     "metadata": {},
     "output_type": "execute_result"
    }
   ],
   "source": [
    "data.isna().sum()"
   ]
  },
  {
   "cell_type": "code",
   "execution_count": 24,
   "id": "e42e8243",
   "metadata": {},
   "outputs": [],
   "source": [
    "num = ['No of Bathrooms','Flat Area (in Sqft)','Lot Area (in Sqft)','Area of the House from Basement (in Sqft)','Latitude','Longitude','Living Area after Renovation (in Sqft)']"
   ]
  },
  {
   "cell_type": "code",
   "execution_count": 25,
   "id": "692cd728",
   "metadata": {},
   "outputs": [],
   "source": [
    "from sklearn.impute import SimpleImputer"
   ]
  },
  {
   "cell_type": "code",
   "execution_count": 26,
   "id": "dcc2f6cc",
   "metadata": {},
   "outputs": [],
   "source": [
    "imputer = SimpleImputer(strategy='median')"
   ]
  },
  {
   "cell_type": "code",
   "execution_count": 27,
   "id": "b341010f",
   "metadata": {},
   "outputs": [],
   "source": [
    "data[num] = imputer.fit_transform(data[num])"
   ]
  },
  {
   "cell_type": "code",
   "execution_count": 28,
   "id": "39c52ce8",
   "metadata": {},
   "outputs": [
    {
     "data": {
      "text/plain": [
       "No of Bathrooms                              0\n",
       "Flat Area (in Sqft)                          0\n",
       "Lot Area (in Sqft)                           0\n",
       "Area of the House from Basement (in Sqft)    0\n",
       "Latitude                                     0\n",
       "Longitude                                    0\n",
       "Living Area after Renovation (in Sqft)       0\n",
       "dtype: int64"
      ]
     },
     "execution_count": 28,
     "metadata": {},
     "output_type": "execute_result"
    }
   ],
   "source": [
    "data[num].isna().sum()"
   ]
  },
  {
   "cell_type": "code",
   "execution_count": 29,
   "id": "47e1a6d0",
   "metadata": {},
   "outputs": [],
   "source": [
    "imputer = SimpleImputer(strategy='median')"
   ]
  },
  {
   "cell_type": "code",
   "execution_count": 30,
   "id": "bbd28832",
   "metadata": {},
   "outputs": [],
   "source": [
    "data['Zipcode'] = imputer.fit_transform(data['Zipcode'].values.reshape(-1,1))"
   ]
  },
  {
   "cell_type": "code",
   "execution_count": 31,
   "id": "fffd0d8b",
   "metadata": {},
   "outputs": [
    {
     "data": {
      "text/plain": [
       "0"
      ]
     },
     "execution_count": 31,
     "metadata": {},
     "output_type": "execute_result"
    }
   ],
   "source": [
    "data['Zipcode'].isna().sum()"
   ]
  },
  {
   "cell_type": "code",
   "execution_count": 32,
   "id": "4c45b230",
   "metadata": {},
   "outputs": [
    {
     "data": {
      "text/plain": [
       "ID                                           0\n",
       "Date House was Sold                          0\n",
       "Sale Price                                   0\n",
       "No of Bedrooms                               0\n",
       "No of Bathrooms                              0\n",
       "Flat Area (in Sqft)                          0\n",
       "Lot Area (in Sqft)                           0\n",
       "No of Floors                                 0\n",
       "Waterfront View                              0\n",
       "No of Times Visited                          0\n",
       "Condition of the House                       0\n",
       "Overall Grade                                0\n",
       "Area of the House from Basement (in Sqft)    0\n",
       "Basement Area (in Sqft)                      0\n",
       "Age of House (in Years)                      0\n",
       "Renovated Year                               0\n",
       "Zipcode                                      0\n",
       "Latitude                                     0\n",
       "Longitude                                    0\n",
       "Living Area after Renovation (in Sqft)       0\n",
       "Lot Area after Renovation (in Sqft)          0\n",
       "dtype: int64"
      ]
     },
     "execution_count": 32,
     "metadata": {},
     "output_type": "execute_result"
    }
   ],
   "source": [
    "data.isna().sum()"
   ]
  },
  {
   "cell_type": "code",
   "execution_count": 33,
   "id": "227ed25a",
   "metadata": {},
   "outputs": [],
   "source": [
    "data['Zipcode'] = data['Zipcode'].astype(object)"
   ]
  },
  {
   "cell_type": "code",
   "execution_count": 34,
   "id": "d95d6a6d",
   "metadata": {},
   "outputs": [
    {
     "name": "stdout",
     "output_type": "stream",
     "text": [
      "<class 'pandas.core.frame.DataFrame'>\n",
      "Int64Index: 21609 entries, 0 to 21612\n",
      "Data columns (total 21 columns):\n",
      " #   Column                                     Non-Null Count  Dtype  \n",
      "---  ------                                     --------------  -----  \n",
      " 0   ID                                         21609 non-null  int64  \n",
      " 1   Date House was Sold                        21609 non-null  object \n",
      " 2   Sale Price                                 21609 non-null  float64\n",
      " 3   No of Bedrooms                             21609 non-null  int64  \n",
      " 4   No of Bathrooms                            21609 non-null  float64\n",
      " 5   Flat Area (in Sqft)                        21609 non-null  float64\n",
      " 6   Lot Area (in Sqft)                         21609 non-null  float64\n",
      " 7   No of Floors                               21609 non-null  float64\n",
      " 8   Waterfront View                            21609 non-null  object \n",
      " 9   No of Times Visited                        21609 non-null  object \n",
      " 10  Condition of the House                     21609 non-null  object \n",
      " 11  Overall Grade                              21609 non-null  int64  \n",
      " 12  Area of the House from Basement (in Sqft)  21609 non-null  float64\n",
      " 13  Basement Area (in Sqft)                    21609 non-null  int64  \n",
      " 14  Age of House (in Years)                    21609 non-null  int64  \n",
      " 15  Renovated Year                             21609 non-null  int64  \n",
      " 16  Zipcode                                    21609 non-null  object \n",
      " 17  Latitude                                   21609 non-null  float64\n",
      " 18  Longitude                                  21609 non-null  float64\n",
      " 19  Living Area after Renovation (in Sqft)     21609 non-null  float64\n",
      " 20  Lot Area after Renovation (in Sqft)        21609 non-null  int64  \n",
      "dtypes: float64(9), int64(7), object(5)\n",
      "memory usage: 3.6+ MB\n"
     ]
    }
   ],
   "source": [
    "data.info()"
   ]
  },
  {
   "cell_type": "code",
   "execution_count": 35,
   "id": "e3aaa298",
   "metadata": {},
   "outputs": [],
   "source": [
    "data.drop('ID',axis=1,inplace=True)"
   ]
  },
  {
   "cell_type": "code",
   "execution_count": 36,
   "id": "731b0b39",
   "metadata": {},
   "outputs": [
    {
     "name": "stdout",
     "output_type": "stream",
     "text": [
      "<class 'pandas.core.frame.DataFrame'>\n",
      "Int64Index: 21609 entries, 0 to 21612\n",
      "Data columns (total 20 columns):\n",
      " #   Column                                     Non-Null Count  Dtype  \n",
      "---  ------                                     --------------  -----  \n",
      " 0   Date House was Sold                        21609 non-null  object \n",
      " 1   Sale Price                                 21609 non-null  float64\n",
      " 2   No of Bedrooms                             21609 non-null  int64  \n",
      " 3   No of Bathrooms                            21609 non-null  float64\n",
      " 4   Flat Area (in Sqft)                        21609 non-null  float64\n",
      " 5   Lot Area (in Sqft)                         21609 non-null  float64\n",
      " 6   No of Floors                               21609 non-null  float64\n",
      " 7   Waterfront View                            21609 non-null  object \n",
      " 8   No of Times Visited                        21609 non-null  object \n",
      " 9   Condition of the House                     21609 non-null  object \n",
      " 10  Overall Grade                              21609 non-null  int64  \n",
      " 11  Area of the House from Basement (in Sqft)  21609 non-null  float64\n",
      " 12  Basement Area (in Sqft)                    21609 non-null  int64  \n",
      " 13  Age of House (in Years)                    21609 non-null  int64  \n",
      " 14  Renovated Year                             21609 non-null  int64  \n",
      " 15  Zipcode                                    21609 non-null  object \n",
      " 16  Latitude                                   21609 non-null  float64\n",
      " 17  Longitude                                  21609 non-null  float64\n",
      " 18  Living Area after Renovation (in Sqft)     21609 non-null  float64\n",
      " 19  Lot Area after Renovation (in Sqft)        21609 non-null  int64  \n",
      "dtypes: float64(9), int64(6), object(5)\n",
      "memory usage: 3.5+ MB\n"
     ]
    }
   ],
   "source": [
    "data.info()"
   ]
  },
  {
   "cell_type": "code",
   "execution_count": 37,
   "id": "de93de12",
   "metadata": {},
   "outputs": [
    {
     "data": {
      "text/html": [
       "<div>\n",
       "<style scoped>\n",
       "    .dataframe tbody tr th:only-of-type {\n",
       "        vertical-align: middle;\n",
       "    }\n",
       "\n",
       "    .dataframe tbody tr th {\n",
       "        vertical-align: top;\n",
       "    }\n",
       "\n",
       "    .dataframe thead th {\n",
       "        text-align: right;\n",
       "    }\n",
       "</style>\n",
       "<table border=\"1\" class=\"dataframe\">\n",
       "  <thead>\n",
       "    <tr style=\"text-align: right;\">\n",
       "      <th></th>\n",
       "      <th>Date House was Sold</th>\n",
       "      <th>Sale Price</th>\n",
       "      <th>No of Bedrooms</th>\n",
       "      <th>No of Bathrooms</th>\n",
       "      <th>Flat Area (in Sqft)</th>\n",
       "      <th>Lot Area (in Sqft)</th>\n",
       "      <th>No of Floors</th>\n",
       "      <th>Waterfront View</th>\n",
       "      <th>No of Times Visited</th>\n",
       "      <th>Condition of the House</th>\n",
       "      <th>Overall Grade</th>\n",
       "      <th>Area of the House from Basement (in Sqft)</th>\n",
       "      <th>Basement Area (in Sqft)</th>\n",
       "      <th>Age of House (in Years)</th>\n",
       "      <th>Renovated Year</th>\n",
       "      <th>Zipcode</th>\n",
       "      <th>Latitude</th>\n",
       "      <th>Longitude</th>\n",
       "      <th>Living Area after Renovation (in Sqft)</th>\n",
       "      <th>Lot Area after Renovation (in Sqft)</th>\n",
       "    </tr>\n",
       "  </thead>\n",
       "  <tbody>\n",
       "    <tr>\n",
       "      <th>0</th>\n",
       "      <td>14 October 2017</td>\n",
       "      <td>221900.0</td>\n",
       "      <td>3</td>\n",
       "      <td>1.00</td>\n",
       "      <td>1180.0</td>\n",
       "      <td>5650.0</td>\n",
       "      <td>1.0</td>\n",
       "      <td>No</td>\n",
       "      <td>None</td>\n",
       "      <td>Fair</td>\n",
       "      <td>7</td>\n",
       "      <td>1180.0</td>\n",
       "      <td>0</td>\n",
       "      <td>63</td>\n",
       "      <td>0</td>\n",
       "      <td>98178.0</td>\n",
       "      <td>47.5112</td>\n",
       "      <td>-122.257</td>\n",
       "      <td>1340.0</td>\n",
       "      <td>5650</td>\n",
       "    </tr>\n",
       "    <tr>\n",
       "      <th>1</th>\n",
       "      <td>14 December 2017</td>\n",
       "      <td>538000.0</td>\n",
       "      <td>3</td>\n",
       "      <td>2.25</td>\n",
       "      <td>2570.0</td>\n",
       "      <td>7242.0</td>\n",
       "      <td>2.0</td>\n",
       "      <td>No</td>\n",
       "      <td>None</td>\n",
       "      <td>Fair</td>\n",
       "      <td>7</td>\n",
       "      <td>2170.0</td>\n",
       "      <td>400</td>\n",
       "      <td>67</td>\n",
       "      <td>1991</td>\n",
       "      <td>98125.0</td>\n",
       "      <td>47.7210</td>\n",
       "      <td>-122.319</td>\n",
       "      <td>1690.0</td>\n",
       "      <td>7639</td>\n",
       "    </tr>\n",
       "  </tbody>\n",
       "</table>\n",
       "</div>"
      ],
      "text/plain": [
       "  Date House was Sold  Sale Price  No of Bedrooms  No of Bathrooms  \\\n",
       "0     14 October 2017    221900.0               3             1.00   \n",
       "1    14 December 2017    538000.0               3             2.25   \n",
       "\n",
       "   Flat Area (in Sqft)  Lot Area (in Sqft)  No of Floors Waterfront View  \\\n",
       "0               1180.0              5650.0           1.0              No   \n",
       "1               2570.0              7242.0           2.0              No   \n",
       "\n",
       "  No of Times Visited Condition of the House  Overall Grade  \\\n",
       "0                None                   Fair              7   \n",
       "1                None                   Fair              7   \n",
       "\n",
       "   Area of the House from Basement (in Sqft)  Basement Area (in Sqft)  \\\n",
       "0                                     1180.0                        0   \n",
       "1                                     2170.0                      400   \n",
       "\n",
       "   Age of House (in Years)  Renovated Year  Zipcode  Latitude  Longitude  \\\n",
       "0                       63               0  98178.0   47.5112   -122.257   \n",
       "1                       67            1991  98125.0   47.7210   -122.319   \n",
       "\n",
       "   Living Area after Renovation (in Sqft)  Lot Area after Renovation (in Sqft)  \n",
       "0                                  1340.0                                 5650  \n",
       "1                                  1690.0                                 7639  "
      ]
     },
     "execution_count": 37,
     "metadata": {},
     "output_type": "execute_result"
    }
   ],
   "source": [
    "data.head(2)"
   ]
  },
  {
   "cell_type": "code",
   "execution_count": 38,
   "id": "63972e6c",
   "metadata": {},
   "outputs": [],
   "source": [
    "data['year'] = pd.DatetimeIndex(data['Date House was Sold']).year"
   ]
  },
  {
   "cell_type": "code",
   "execution_count": 39,
   "id": "a7346bfe",
   "metadata": {},
   "outputs": [
    {
     "data": {
      "text/html": [
       "<div>\n",
       "<style scoped>\n",
       "    .dataframe tbody tr th:only-of-type {\n",
       "        vertical-align: middle;\n",
       "    }\n",
       "\n",
       "    .dataframe tbody tr th {\n",
       "        vertical-align: top;\n",
       "    }\n",
       "\n",
       "    .dataframe thead th {\n",
       "        text-align: right;\n",
       "    }\n",
       "</style>\n",
       "<table border=\"1\" class=\"dataframe\">\n",
       "  <thead>\n",
       "    <tr style=\"text-align: right;\">\n",
       "      <th></th>\n",
       "      <th>Date House was Sold</th>\n",
       "      <th>Sale Price</th>\n",
       "      <th>No of Bedrooms</th>\n",
       "      <th>No of Bathrooms</th>\n",
       "      <th>Flat Area (in Sqft)</th>\n",
       "      <th>Lot Area (in Sqft)</th>\n",
       "      <th>No of Floors</th>\n",
       "      <th>Waterfront View</th>\n",
       "      <th>No of Times Visited</th>\n",
       "      <th>Condition of the House</th>\n",
       "      <th>...</th>\n",
       "      <th>Area of the House from Basement (in Sqft)</th>\n",
       "      <th>Basement Area (in Sqft)</th>\n",
       "      <th>Age of House (in Years)</th>\n",
       "      <th>Renovated Year</th>\n",
       "      <th>Zipcode</th>\n",
       "      <th>Latitude</th>\n",
       "      <th>Longitude</th>\n",
       "      <th>Living Area after Renovation (in Sqft)</th>\n",
       "      <th>Lot Area after Renovation (in Sqft)</th>\n",
       "      <th>year</th>\n",
       "    </tr>\n",
       "  </thead>\n",
       "  <tbody>\n",
       "    <tr>\n",
       "      <th>0</th>\n",
       "      <td>14 October 2017</td>\n",
       "      <td>221900.0</td>\n",
       "      <td>3</td>\n",
       "      <td>1.00</td>\n",
       "      <td>1180.0</td>\n",
       "      <td>5650.0</td>\n",
       "      <td>1.0</td>\n",
       "      <td>No</td>\n",
       "      <td>None</td>\n",
       "      <td>Fair</td>\n",
       "      <td>...</td>\n",
       "      <td>1180.0</td>\n",
       "      <td>0</td>\n",
       "      <td>63</td>\n",
       "      <td>0</td>\n",
       "      <td>98178.0</td>\n",
       "      <td>47.5112</td>\n",
       "      <td>-122.257</td>\n",
       "      <td>1340.0</td>\n",
       "      <td>5650</td>\n",
       "      <td>2017</td>\n",
       "    </tr>\n",
       "    <tr>\n",
       "      <th>1</th>\n",
       "      <td>14 December 2017</td>\n",
       "      <td>538000.0</td>\n",
       "      <td>3</td>\n",
       "      <td>2.25</td>\n",
       "      <td>2570.0</td>\n",
       "      <td>7242.0</td>\n",
       "      <td>2.0</td>\n",
       "      <td>No</td>\n",
       "      <td>None</td>\n",
       "      <td>Fair</td>\n",
       "      <td>...</td>\n",
       "      <td>2170.0</td>\n",
       "      <td>400</td>\n",
       "      <td>67</td>\n",
       "      <td>1991</td>\n",
       "      <td>98125.0</td>\n",
       "      <td>47.7210</td>\n",
       "      <td>-122.319</td>\n",
       "      <td>1690.0</td>\n",
       "      <td>7639</td>\n",
       "      <td>2017</td>\n",
       "    </tr>\n",
       "    <tr>\n",
       "      <th>2</th>\n",
       "      <td>15 February 2016</td>\n",
       "      <td>180000.0</td>\n",
       "      <td>2</td>\n",
       "      <td>1.00</td>\n",
       "      <td>770.0</td>\n",
       "      <td>10000.0</td>\n",
       "      <td>1.0</td>\n",
       "      <td>No</td>\n",
       "      <td>None</td>\n",
       "      <td>Fair</td>\n",
       "      <td>...</td>\n",
       "      <td>770.0</td>\n",
       "      <td>0</td>\n",
       "      <td>85</td>\n",
       "      <td>0</td>\n",
       "      <td>98028.0</td>\n",
       "      <td>47.7379</td>\n",
       "      <td>-122.233</td>\n",
       "      <td>2720.0</td>\n",
       "      <td>8062</td>\n",
       "      <td>2016</td>\n",
       "    </tr>\n",
       "    <tr>\n",
       "      <th>3</th>\n",
       "      <td>14 December 2017</td>\n",
       "      <td>604000.0</td>\n",
       "      <td>4</td>\n",
       "      <td>3.00</td>\n",
       "      <td>1960.0</td>\n",
       "      <td>5000.0</td>\n",
       "      <td>1.0</td>\n",
       "      <td>No</td>\n",
       "      <td>None</td>\n",
       "      <td>Excellent</td>\n",
       "      <td>...</td>\n",
       "      <td>1050.0</td>\n",
       "      <td>910</td>\n",
       "      <td>53</td>\n",
       "      <td>0</td>\n",
       "      <td>98136.0</td>\n",
       "      <td>47.5208</td>\n",
       "      <td>-122.393</td>\n",
       "      <td>1360.0</td>\n",
       "      <td>5000</td>\n",
       "      <td>2017</td>\n",
       "    </tr>\n",
       "    <tr>\n",
       "      <th>4</th>\n",
       "      <td>15 February 2016</td>\n",
       "      <td>510000.0</td>\n",
       "      <td>3</td>\n",
       "      <td>2.00</td>\n",
       "      <td>1680.0</td>\n",
       "      <td>8080.0</td>\n",
       "      <td>1.0</td>\n",
       "      <td>No</td>\n",
       "      <td>None</td>\n",
       "      <td>Fair</td>\n",
       "      <td>...</td>\n",
       "      <td>1680.0</td>\n",
       "      <td>0</td>\n",
       "      <td>31</td>\n",
       "      <td>0</td>\n",
       "      <td>98074.0</td>\n",
       "      <td>47.6168</td>\n",
       "      <td>-122.045</td>\n",
       "      <td>1800.0</td>\n",
       "      <td>7503</td>\n",
       "      <td>2016</td>\n",
       "    </tr>\n",
       "  </tbody>\n",
       "</table>\n",
       "<p>5 rows × 21 columns</p>\n",
       "</div>"
      ],
      "text/plain": [
       "  Date House was Sold  Sale Price  No of Bedrooms  No of Bathrooms  \\\n",
       "0     14 October 2017    221900.0               3             1.00   \n",
       "1    14 December 2017    538000.0               3             2.25   \n",
       "2    15 February 2016    180000.0               2             1.00   \n",
       "3    14 December 2017    604000.0               4             3.00   \n",
       "4    15 February 2016    510000.0               3             2.00   \n",
       "\n",
       "   Flat Area (in Sqft)  Lot Area (in Sqft)  No of Floors Waterfront View  \\\n",
       "0               1180.0              5650.0           1.0              No   \n",
       "1               2570.0              7242.0           2.0              No   \n",
       "2                770.0             10000.0           1.0              No   \n",
       "3               1960.0              5000.0           1.0              No   \n",
       "4               1680.0              8080.0           1.0              No   \n",
       "\n",
       "  No of Times Visited Condition of the House  ...  \\\n",
       "0                None                   Fair  ...   \n",
       "1                None                   Fair  ...   \n",
       "2                None                   Fair  ...   \n",
       "3                None              Excellent  ...   \n",
       "4                None                   Fair  ...   \n",
       "\n",
       "   Area of the House from Basement (in Sqft)  Basement Area (in Sqft)  \\\n",
       "0                                     1180.0                        0   \n",
       "1                                     2170.0                      400   \n",
       "2                                      770.0                        0   \n",
       "3                                     1050.0                      910   \n",
       "4                                     1680.0                        0   \n",
       "\n",
       "   Age of House (in Years)  Renovated Year  Zipcode Latitude  Longitude  \\\n",
       "0                       63               0  98178.0  47.5112   -122.257   \n",
       "1                       67            1991  98125.0  47.7210   -122.319   \n",
       "2                       85               0  98028.0  47.7379   -122.233   \n",
       "3                       53               0  98136.0  47.5208   -122.393   \n",
       "4                       31               0  98074.0  47.6168   -122.045   \n",
       "\n",
       "   Living Area after Renovation (in Sqft)  \\\n",
       "0                                  1340.0   \n",
       "1                                  1690.0   \n",
       "2                                  2720.0   \n",
       "3                                  1360.0   \n",
       "4                                  1800.0   \n",
       "\n",
       "   Lot Area after Renovation (in Sqft)  year  \n",
       "0                                 5650  2017  \n",
       "1                                 7639  2017  \n",
       "2                                 8062  2016  \n",
       "3                                 5000  2017  \n",
       "4                                 7503  2016  \n",
       "\n",
       "[5 rows x 21 columns]"
      ]
     },
     "execution_count": 39,
     "metadata": {},
     "output_type": "execute_result"
    }
   ],
   "source": [
    "data.head()"
   ]
  },
  {
   "cell_type": "code",
   "execution_count": 40,
   "id": "8c3e961b",
   "metadata": {},
   "outputs": [],
   "source": [
    "data['no_of_years(house sold)'] = 2022 - data['year']"
   ]
  },
  {
   "cell_type": "code",
   "execution_count": 41,
   "id": "29362572",
   "metadata": {},
   "outputs": [
    {
     "data": {
      "text/html": [
       "<div>\n",
       "<style scoped>\n",
       "    .dataframe tbody tr th:only-of-type {\n",
       "        vertical-align: middle;\n",
       "    }\n",
       "\n",
       "    .dataframe tbody tr th {\n",
       "        vertical-align: top;\n",
       "    }\n",
       "\n",
       "    .dataframe thead th {\n",
       "        text-align: right;\n",
       "    }\n",
       "</style>\n",
       "<table border=\"1\" class=\"dataframe\">\n",
       "  <thead>\n",
       "    <tr style=\"text-align: right;\">\n",
       "      <th></th>\n",
       "      <th>Date House was Sold</th>\n",
       "      <th>Sale Price</th>\n",
       "      <th>No of Bedrooms</th>\n",
       "      <th>No of Bathrooms</th>\n",
       "      <th>Flat Area (in Sqft)</th>\n",
       "      <th>Lot Area (in Sqft)</th>\n",
       "      <th>No of Floors</th>\n",
       "      <th>Waterfront View</th>\n",
       "      <th>No of Times Visited</th>\n",
       "      <th>Condition of the House</th>\n",
       "      <th>...</th>\n",
       "      <th>Basement Area (in Sqft)</th>\n",
       "      <th>Age of House (in Years)</th>\n",
       "      <th>Renovated Year</th>\n",
       "      <th>Zipcode</th>\n",
       "      <th>Latitude</th>\n",
       "      <th>Longitude</th>\n",
       "      <th>Living Area after Renovation (in Sqft)</th>\n",
       "      <th>Lot Area after Renovation (in Sqft)</th>\n",
       "      <th>year</th>\n",
       "      <th>no_of_years(house sold)</th>\n",
       "    </tr>\n",
       "  </thead>\n",
       "  <tbody>\n",
       "    <tr>\n",
       "      <th>18181</th>\n",
       "      <td>15 January 2016</td>\n",
       "      <td>262500.0</td>\n",
       "      <td>3</td>\n",
       "      <td>1.0</td>\n",
       "      <td>970.0</td>\n",
       "      <td>7854.0</td>\n",
       "      <td>1.0</td>\n",
       "      <td>No</td>\n",
       "      <td>None</td>\n",
       "      <td>Good</td>\n",
       "      <td>...</td>\n",
       "      <td>0</td>\n",
       "      <td>38</td>\n",
       "      <td>0</td>\n",
       "      <td>98056.0</td>\n",
       "      <td>47.4899</td>\n",
       "      <td>-122.185</td>\n",
       "      <td>1480.0</td>\n",
       "      <td>7800</td>\n",
       "      <td>2016</td>\n",
       "      <td>6</td>\n",
       "    </tr>\n",
       "  </tbody>\n",
       "</table>\n",
       "<p>1 rows × 22 columns</p>\n",
       "</div>"
      ],
      "text/plain": [
       "      Date House was Sold  Sale Price  No of Bedrooms  No of Bathrooms  \\\n",
       "18181     15 January 2016    262500.0               3              1.0   \n",
       "\n",
       "       Flat Area (in Sqft)  Lot Area (in Sqft)  No of Floors Waterfront View  \\\n",
       "18181                970.0              7854.0           1.0              No   \n",
       "\n",
       "      No of Times Visited Condition of the House  ...  \\\n",
       "18181                None                   Good  ...   \n",
       "\n",
       "       Basement Area (in Sqft)  Age of House (in Years)  Renovated Year  \\\n",
       "18181                        0                       38               0   \n",
       "\n",
       "       Zipcode  Latitude Longitude  Living Area after Renovation (in Sqft)  \\\n",
       "18181  98056.0   47.4899  -122.185                                  1480.0   \n",
       "\n",
       "       Lot Area after Renovation (in Sqft)  year  no_of_years(house sold)  \n",
       "18181                                 7800  2016                        6  \n",
       "\n",
       "[1 rows x 22 columns]"
      ]
     },
     "execution_count": 41,
     "metadata": {},
     "output_type": "execute_result"
    }
   ],
   "source": [
    "data.sample()"
   ]
  },
  {
   "cell_type": "code",
   "execution_count": 42,
   "id": "e4260f7f",
   "metadata": {},
   "outputs": [],
   "source": [
    "data.drop(['Date House was Sold','year'],axis=1,inplace=True)"
   ]
  },
  {
   "cell_type": "code",
   "execution_count": 43,
   "id": "a8982059",
   "metadata": {},
   "outputs": [
    {
     "data": {
      "text/html": [
       "<div>\n",
       "<style scoped>\n",
       "    .dataframe tbody tr th:only-of-type {\n",
       "        vertical-align: middle;\n",
       "    }\n",
       "\n",
       "    .dataframe tbody tr th {\n",
       "        vertical-align: top;\n",
       "    }\n",
       "\n",
       "    .dataframe thead th {\n",
       "        text-align: right;\n",
       "    }\n",
       "</style>\n",
       "<table border=\"1\" class=\"dataframe\">\n",
       "  <thead>\n",
       "    <tr style=\"text-align: right;\">\n",
       "      <th></th>\n",
       "      <th>Sale Price</th>\n",
       "      <th>No of Bedrooms</th>\n",
       "      <th>No of Bathrooms</th>\n",
       "      <th>Flat Area (in Sqft)</th>\n",
       "      <th>Lot Area (in Sqft)</th>\n",
       "      <th>No of Floors</th>\n",
       "      <th>Waterfront View</th>\n",
       "      <th>No of Times Visited</th>\n",
       "      <th>Condition of the House</th>\n",
       "      <th>Overall Grade</th>\n",
       "      <th>Area of the House from Basement (in Sqft)</th>\n",
       "      <th>Basement Area (in Sqft)</th>\n",
       "      <th>Age of House (in Years)</th>\n",
       "      <th>Renovated Year</th>\n",
       "      <th>Zipcode</th>\n",
       "      <th>Latitude</th>\n",
       "      <th>Longitude</th>\n",
       "      <th>Living Area after Renovation (in Sqft)</th>\n",
       "      <th>Lot Area after Renovation (in Sqft)</th>\n",
       "      <th>no_of_years(house sold)</th>\n",
       "    </tr>\n",
       "  </thead>\n",
       "  <tbody>\n",
       "    <tr>\n",
       "      <th>12787</th>\n",
       "      <td>225000.0</td>\n",
       "      <td>2</td>\n",
       "      <td>1.0</td>\n",
       "      <td>720.0</td>\n",
       "      <td>4758.0</td>\n",
       "      <td>1.0</td>\n",
       "      <td>No</td>\n",
       "      <td>None</td>\n",
       "      <td>Fair</td>\n",
       "      <td>6</td>\n",
       "      <td>720.0</td>\n",
       "      <td>0</td>\n",
       "      <td>71</td>\n",
       "      <td>0</td>\n",
       "      <td>98126.0</td>\n",
       "      <td>47.5176</td>\n",
       "      <td>-122.376</td>\n",
       "      <td>990.0</td>\n",
       "      <td>4920</td>\n",
       "      <td>5</td>\n",
       "    </tr>\n",
       "  </tbody>\n",
       "</table>\n",
       "</div>"
      ],
      "text/plain": [
       "       Sale Price  No of Bedrooms  No of Bathrooms  Flat Area (in Sqft)  \\\n",
       "12787    225000.0               2              1.0                720.0   \n",
       "\n",
       "       Lot Area (in Sqft)  No of Floors Waterfront View No of Times Visited  \\\n",
       "12787              4758.0           1.0              No                None   \n",
       "\n",
       "      Condition of the House  Overall Grade  \\\n",
       "12787                   Fair              6   \n",
       "\n",
       "       Area of the House from Basement (in Sqft)  Basement Area (in Sqft)  \\\n",
       "12787                                      720.0                        0   \n",
       "\n",
       "       Age of House (in Years)  Renovated Year  Zipcode  Latitude  Longitude  \\\n",
       "12787                       71               0  98126.0   47.5176   -122.376   \n",
       "\n",
       "       Living Area after Renovation (in Sqft)  \\\n",
       "12787                                   990.0   \n",
       "\n",
       "       Lot Area after Renovation (in Sqft)  no_of_years(house sold)  \n",
       "12787                                 4920                        5  "
      ]
     },
     "execution_count": 43,
     "metadata": {},
     "output_type": "execute_result"
    }
   ],
   "source": [
    "data.sample()"
   ]
  },
  {
   "cell_type": "code",
   "execution_count": 44,
   "id": "36c3e49b",
   "metadata": {},
   "outputs": [
    {
     "data": {
      "text/plain": [
       "array([20695,    91,    37,    36,    35,    35,    35,    26,    25,\n",
       "          24,    22,    22,    22,    20,    19,    19,    19,    19,\n",
       "          18,    18,    18,    18,    18,    17,    17,    17,    17,\n",
       "          16,    16,    15,    15,    15,    13,    11,    11,    11,\n",
       "          10,     9,     8,     8,     6,     6,     5,     5,     5,\n",
       "           5,     5,     4,     4,     4,     4,     3,     3,     3,\n",
       "           3,     3,     3,     3,     2,     2,     2,     2,     2,\n",
       "           2,     1,     1,     1,     1,     1,     1], dtype=int64)"
      ]
     },
     "execution_count": 44,
     "metadata": {},
     "output_type": "execute_result"
    }
   ],
   "source": [
    "data['Renovated Year'].value_counts().values"
   ]
  },
  {
   "cell_type": "code",
   "execution_count": 45,
   "id": "1382f4d0",
   "metadata": {},
   "outputs": [],
   "source": [
    "data['is_renovated'] = np.where(data['Renovated Year']!=0,1,0)"
   ]
  },
  {
   "cell_type": "code",
   "execution_count": 46,
   "id": "1efb2685",
   "metadata": {},
   "outputs": [
    {
     "data": {
      "text/html": [
       "<div>\n",
       "<style scoped>\n",
       "    .dataframe tbody tr th:only-of-type {\n",
       "        vertical-align: middle;\n",
       "    }\n",
       "\n",
       "    .dataframe tbody tr th {\n",
       "        vertical-align: top;\n",
       "    }\n",
       "\n",
       "    .dataframe thead th {\n",
       "        text-align: right;\n",
       "    }\n",
       "</style>\n",
       "<table border=\"1\" class=\"dataframe\">\n",
       "  <thead>\n",
       "    <tr style=\"text-align: right;\">\n",
       "      <th></th>\n",
       "      <th>Sale Price</th>\n",
       "      <th>No of Bedrooms</th>\n",
       "      <th>No of Bathrooms</th>\n",
       "      <th>Flat Area (in Sqft)</th>\n",
       "      <th>Lot Area (in Sqft)</th>\n",
       "      <th>No of Floors</th>\n",
       "      <th>Waterfront View</th>\n",
       "      <th>No of Times Visited</th>\n",
       "      <th>Condition of the House</th>\n",
       "      <th>Overall Grade</th>\n",
       "      <th>...</th>\n",
       "      <th>Basement Area (in Sqft)</th>\n",
       "      <th>Age of House (in Years)</th>\n",
       "      <th>Renovated Year</th>\n",
       "      <th>Zipcode</th>\n",
       "      <th>Latitude</th>\n",
       "      <th>Longitude</th>\n",
       "      <th>Living Area after Renovation (in Sqft)</th>\n",
       "      <th>Lot Area after Renovation (in Sqft)</th>\n",
       "      <th>no_of_years(house sold)</th>\n",
       "      <th>is_renovated</th>\n",
       "    </tr>\n",
       "  </thead>\n",
       "  <tbody>\n",
       "    <tr>\n",
       "      <th>5371</th>\n",
       "      <td>350000.0</td>\n",
       "      <td>2</td>\n",
       "      <td>1.0</td>\n",
       "      <td>1620.0</td>\n",
       "      <td>9205.0</td>\n",
       "      <td>1.0</td>\n",
       "      <td>No</td>\n",
       "      <td>None</td>\n",
       "      <td>Excellent</td>\n",
       "      <td>6</td>\n",
       "      <td>...</td>\n",
       "      <td>770</td>\n",
       "      <td>97</td>\n",
       "      <td>0</td>\n",
       "      <td>98034.0</td>\n",
       "      <td>47.7119</td>\n",
       "      <td>-122.23</td>\n",
       "      <td>2460.0</td>\n",
       "      <td>5469</td>\n",
       "      <td>5</td>\n",
       "      <td>0</td>\n",
       "    </tr>\n",
       "  </tbody>\n",
       "</table>\n",
       "<p>1 rows × 21 columns</p>\n",
       "</div>"
      ],
      "text/plain": [
       "      Sale Price  No of Bedrooms  No of Bathrooms  Flat Area (in Sqft)  \\\n",
       "5371    350000.0               2              1.0               1620.0   \n",
       "\n",
       "      Lot Area (in Sqft)  No of Floors Waterfront View No of Times Visited  \\\n",
       "5371              9205.0           1.0              No                None   \n",
       "\n",
       "     Condition of the House  Overall Grade  ...  Basement Area (in Sqft)  \\\n",
       "5371              Excellent              6  ...                      770   \n",
       "\n",
       "      Age of House (in Years)  Renovated Year  Zipcode Latitude  Longitude  \\\n",
       "5371                       97               0  98034.0  47.7119    -122.23   \n",
       "\n",
       "      Living Area after Renovation (in Sqft)  \\\n",
       "5371                                  2460.0   \n",
       "\n",
       "      Lot Area after Renovation (in Sqft)  no_of_years(house sold)  \\\n",
       "5371                                 5469                        5   \n",
       "\n",
       "      is_renovated  \n",
       "5371             0  \n",
       "\n",
       "[1 rows x 21 columns]"
      ]
     },
     "execution_count": 46,
     "metadata": {},
     "output_type": "execute_result"
    }
   ],
   "source": [
    "data.sample()"
   ]
  },
  {
   "cell_type": "code",
   "execution_count": 47,
   "id": "d8469003",
   "metadata": {},
   "outputs": [],
   "source": [
    "data['renovated_age'] = 2022 - data['Renovated Year']"
   ]
  },
  {
   "cell_type": "code",
   "execution_count": 48,
   "id": "b942e8fb",
   "metadata": {},
   "outputs": [
    {
     "data": {
      "text/plain": [
       "<matplotlib.collections.PathCollection at 0x1311c921fd0>"
      ]
     },
     "execution_count": 48,
     "metadata": {},
     "output_type": "execute_result"
    },
    {
     "data": {
      "image/png": "[encoded data removed]",
      "text/plain": [
       "<Figure size 432x288 with 1 Axes>"
      ]
     },
     "metadata": {
      "needs_background": "light"
     },
     "output_type": "display_data"
    }
   ],
   "source": [
    "plt.scatter(data['renovated_age'],data['Sale Price'])"
   ]
  },
  {
   "cell_type": "code",
   "execution_count": 49,
   "id": "d839ed8f",
   "metadata": {},
   "outputs": [],
   "source": [
    "data.drop('renovated_age',axis=1,inplace=True)"
   ]
  },
  {
   "cell_type": "code",
   "execution_count": 50,
   "id": "51110b46",
   "metadata": {},
   "outputs": [
    {
     "data": {
      "text/plain": [
       "Index(['Sale Price', 'No of Bedrooms', 'No of Bathrooms',\n",
       "       'Flat Area (in Sqft)', 'Lot Area (in Sqft)', 'No of Floors',\n",
       "       'Waterfront View', 'No of Times Visited', 'Condition of the House',\n",
       "       'Overall Grade', 'Area of the House from Basement (in Sqft)',\n",
       "       'Basement Area (in Sqft)', 'Age of House (in Years)', 'Renovated Year',\n",
       "       'Zipcode', 'Latitude', 'Longitude',\n",
       "       'Living Area after Renovation (in Sqft)',\n",
       "       'Lot Area after Renovation (in Sqft)', 'no_of_years(house sold)',\n",
       "       'is_renovated'],\n",
       "      dtype='object')"
      ]
     },
     "execution_count": 50,
     "metadata": {},
     "output_type": "execute_result"
    }
   ],
   "source": [
    "data.columns"
   ]
  },
  {
   "cell_type": "code",
   "execution_count": 51,
   "id": "8801afb1",
   "metadata": {},
   "outputs": [
    {
     "data": {
      "text/plain": [
       "4      558\n",
       "12     454\n",
       "13     450\n",
       "14     433\n",
       "15     422\n",
       "      ... \n",
       "85      30\n",
       "117     29\n",
       "116     27\n",
       "83      24\n",
       "84      21\n",
       "Name: Age of House (in Years), Length: 116, dtype: int64"
      ]
     },
     "execution_count": 51,
     "metadata": {},
     "output_type": "execute_result"
    }
   ],
   "source": [
    "data['Age of House (in Years)'].value_counts()"
   ]
  },
  {
   "cell_type": "code",
   "execution_count": 52,
   "id": "a3e4eb39",
   "metadata": {},
   "outputs": [
    {
     "data": {
      "text/plain": [
       "118"
      ]
     },
     "execution_count": 52,
     "metadata": {},
     "output_type": "execute_result"
    }
   ],
   "source": [
    "data['Age of House (in Years)'].values.max()"
   ]
  },
  {
   "cell_type": "code",
   "execution_count": 53,
   "id": "501d7d0b",
   "metadata": {},
   "outputs": [],
   "source": [
    "def house(value):\n",
    "    if value<11:\n",
    "        return 'New'\n",
    "    elif value<51:\n",
    "        return 'Middle'\n",
    "    else:\n",
    "        return 'Old'"
   ]
  },
  {
   "cell_type": "code",
   "execution_count": 54,
   "id": "c4b69f74",
   "metadata": {},
   "outputs": [],
   "source": [
    "data['house_is'] = data['Age of House (in Years)'].apply(house)"
   ]
  },
  {
   "cell_type": "code",
   "execution_count": 55,
   "id": "d6585b07",
   "metadata": {},
   "outputs": [
    {
     "data": {
      "text/html": [
       "<div>\n",
       "<style scoped>\n",
       "    .dataframe tbody tr th:only-of-type {\n",
       "        vertical-align: middle;\n",
       "    }\n",
       "\n",
       "    .dataframe tbody tr th {\n",
       "        vertical-align: top;\n",
       "    }\n",
       "\n",
       "    .dataframe thead th {\n",
       "        text-align: right;\n",
       "    }\n",
       "</style>\n",
       "<table border=\"1\" class=\"dataframe\">\n",
       "  <thead>\n",
       "    <tr style=\"text-align: right;\">\n",
       "      <th></th>\n",
       "      <th>Sale Price</th>\n",
       "      <th>No of Bedrooms</th>\n",
       "      <th>No of Bathrooms</th>\n",
       "      <th>Flat Area (in Sqft)</th>\n",
       "      <th>Lot Area (in Sqft)</th>\n",
       "      <th>No of Floors</th>\n",
       "      <th>Waterfront View</th>\n",
       "      <th>No of Times Visited</th>\n",
       "      <th>Condition of the House</th>\n",
       "      <th>Overall Grade</th>\n",
       "      <th>...</th>\n",
       "      <th>Age of House (in Years)</th>\n",
       "      <th>Renovated Year</th>\n",
       "      <th>Zipcode</th>\n",
       "      <th>Latitude</th>\n",
       "      <th>Longitude</th>\n",
       "      <th>Living Area after Renovation (in Sqft)</th>\n",
       "      <th>Lot Area after Renovation (in Sqft)</th>\n",
       "      <th>no_of_years(house sold)</th>\n",
       "      <th>is_renovated</th>\n",
       "      <th>house_is</th>\n",
       "    </tr>\n",
       "  </thead>\n",
       "  <tbody>\n",
       "    <tr>\n",
       "      <th>7293</th>\n",
       "      <td>279900.0</td>\n",
       "      <td>3</td>\n",
       "      <td>2.0</td>\n",
       "      <td>1410.0</td>\n",
       "      <td>6600.0</td>\n",
       "      <td>1.0</td>\n",
       "      <td>No</td>\n",
       "      <td>None</td>\n",
       "      <td>Good</td>\n",
       "      <td>7</td>\n",
       "      <td>...</td>\n",
       "      <td>28</td>\n",
       "      <td>0</td>\n",
       "      <td>98042.0</td>\n",
       "      <td>47.3596</td>\n",
       "      <td>-122.089</td>\n",
       "      <td>1750.0</td>\n",
       "      <td>7150</td>\n",
       "      <td>6</td>\n",
       "      <td>0</td>\n",
       "      <td>Middle</td>\n",
       "    </tr>\n",
       "  </tbody>\n",
       "</table>\n",
       "<p>1 rows × 22 columns</p>\n",
       "</div>"
      ],
      "text/plain": [
       "      Sale Price  No of Bedrooms  No of Bathrooms  Flat Area (in Sqft)  \\\n",
       "7293    279900.0               3              2.0               1410.0   \n",
       "\n",
       "      Lot Area (in Sqft)  No of Floors Waterfront View No of Times Visited  \\\n",
       "7293              6600.0           1.0              No                None   \n",
       "\n",
       "     Condition of the House  Overall Grade  ...  Age of House (in Years)  \\\n",
       "7293                   Good              7  ...                       28   \n",
       "\n",
       "      Renovated Year  Zipcode  Latitude Longitude  \\\n",
       "7293               0  98042.0   47.3596  -122.089   \n",
       "\n",
       "      Living Area after Renovation (in Sqft)  \\\n",
       "7293                                  1750.0   \n",
       "\n",
       "      Lot Area after Renovation (in Sqft)  no_of_years(house sold)  \\\n",
       "7293                                 7150                        6   \n",
       "\n",
       "      is_renovated  house_is  \n",
       "7293             0    Middle  \n",
       "\n",
       "[1 rows x 22 columns]"
      ]
     },
     "execution_count": 55,
     "metadata": {},
     "output_type": "execute_result"
    }
   ],
   "source": [
    "data.sample()"
   ]
  },
  {
   "cell_type": "code",
   "execution_count": 56,
   "id": "a907cf2f",
   "metadata": {},
   "outputs": [
    {
     "data": {
      "text/plain": [
       "<AxesSubplot:xlabel='house_is', ylabel='Sale Price'>"
      ]
     },
     "execution_count": 56,
     "metadata": {},
     "output_type": "execute_result"
    },
    {
     "data": {
      "image/png": "[encoded data removed]",
      "text/plain": [
       "<Figure size 432x288 with 1 Axes>"
      ]
     },
     "metadata": {
      "needs_background": "light"
     },
     "output_type": "display_data"
    }
   ],
   "source": [
    "sns.barplot(x=data['house_is'],y=data['Sale Price'])"
   ]
  },
  {
   "cell_type": "code",
   "execution_count": 57,
   "id": "a6635016",
   "metadata": {},
   "outputs": [
    {
     "data": {
      "text/plain": [
       "Index(['Sale Price', 'No of Bedrooms', 'No of Bathrooms',\n",
       "       'Flat Area (in Sqft)', 'Lot Area (in Sqft)', 'No of Floors',\n",
       "       'Waterfront View', 'No of Times Visited', 'Condition of the House',\n",
       "       'Overall Grade', 'Area of the House from Basement (in Sqft)',\n",
       "       'Basement Area (in Sqft)', 'Age of House (in Years)', 'Renovated Year',\n",
       "       'Zipcode', 'Latitude', 'Longitude',\n",
       "       'Living Area after Renovation (in Sqft)',\n",
       "       'Lot Area after Renovation (in Sqft)', 'no_of_years(house sold)',\n",
       "       'is_renovated', 'house_is'],\n",
       "      dtype='object')"
      ]
     },
     "execution_count": 57,
     "metadata": {},
     "output_type": "execute_result"
    }
   ],
   "source": [
    "data.columns"
   ]
  },
  {
   "cell_type": "code",
   "execution_count": 58,
   "id": "e22cf146",
   "metadata": {},
   "outputs": [
    {
     "data": {
      "text/plain": [
       "7     8979\n",
       "8     6066\n",
       "9     2615\n",
       "6     2038\n",
       "10    1623\n",
       "5      242\n",
       "4       29\n",
       "2       13\n",
       "3        3\n",
       "1        1\n",
       "Name: Overall Grade, dtype: int64"
      ]
     },
     "execution_count": 58,
     "metadata": {},
     "output_type": "execute_result"
    }
   ],
   "source": [
    "data['Overall Grade'].value_counts()"
   ]
  },
  {
   "cell_type": "code",
   "execution_count": 59,
   "id": "533efda8",
   "metadata": {},
   "outputs": [
    {
     "data": {
      "text/plain": [
       "Sale Price                                   float64\n",
       "No of Bedrooms                                 int64\n",
       "No of Bathrooms                              float64\n",
       "Flat Area (in Sqft)                          float64\n",
       "Lot Area (in Sqft)                           float64\n",
       "No of Floors                                 float64\n",
       "Waterfront View                               object\n",
       "No of Times Visited                           object\n",
       "Condition of the House                        object\n",
       "Overall Grade                                  int64\n",
       "Area of the House from Basement (in Sqft)    float64\n",
       "Basement Area (in Sqft)                        int64\n",
       "Age of House (in Years)                        int64\n",
       "Renovated Year                                 int64\n",
       "Zipcode                                       object\n",
       "Latitude                                     float64\n",
       "Longitude                                    float64\n",
       "Living Area after Renovation (in Sqft)       float64\n",
       "Lot Area after Renovation (in Sqft)            int64\n",
       "no_of_years(house sold)                        int64\n",
       "is_renovated                                   int32\n",
       "house_is                                      object\n",
       "dtype: object"
      ]
     },
     "execution_count": 59,
     "metadata": {},
     "output_type": "execute_result"
    }
   ],
   "source": [
    "data.dtypes"
   ]
  },
  {
   "cell_type": "code",
   "execution_count": 60,
   "id": "393d790a",
   "metadata": {},
   "outputs": [],
   "source": [
    "from statsmodels.formula.api import ols\n",
    "import statsmodels.api as sm"
   ]
  },
  {
   "cell_type": "code",
   "execution_count": 61,
   "id": "9fd6607f",
   "metadata": {},
   "outputs": [],
   "source": [
    "data = data.rename(columns={'Waterfront View':'Waterfront_View',\n",
    "                           'No of Times Visited':'No_of_Times_Visited',\n",
    "                           'Condition of the House':'Condition_of_the_House',\n",
    "                           'Sale Price':'Sale_Price'})"
   ]
  },
  {
   "cell_type": "code",
   "execution_count": 62,
   "id": "3c5921aa",
   "metadata": {},
   "outputs": [
    {
     "data": {
      "text/plain": [
       "Index(['Sale_Price', 'No of Bedrooms', 'No of Bathrooms',\n",
       "       'Flat Area (in Sqft)', 'Lot Area (in Sqft)', 'No of Floors',\n",
       "       'Waterfront_View', 'No_of_Times_Visited', 'Condition_of_the_House',\n",
       "       'Overall Grade', 'Area of the House from Basement (in Sqft)',\n",
       "       'Basement Area (in Sqft)', 'Age of House (in Years)', 'Renovated Year',\n",
       "       'Zipcode', 'Latitude', 'Longitude',\n",
       "       'Living Area after Renovation (in Sqft)',\n",
       "       'Lot Area after Renovation (in Sqft)', 'no_of_years(house sold)',\n",
       "       'is_renovated', 'house_is'],\n",
       "      dtype='object')"
      ]
     },
     "execution_count": 62,
     "metadata": {},
     "output_type": "execute_result"
    }
   ],
   "source": [
    "data.columns"
   ]
  },
  {
   "cell_type": "code",
   "execution_count": 63,
   "id": "c8f261a6",
   "metadata": {},
   "outputs": [
    {
     "data": {
      "text/html": [
       "<div>\n",
       "<style scoped>\n",
       "    .dataframe tbody tr th:only-of-type {\n",
       "        vertical-align: middle;\n",
       "    }\n",
       "\n",
       "    .dataframe tbody tr th {\n",
       "        vertical-align: top;\n",
       "    }\n",
       "\n",
       "    .dataframe thead th {\n",
       "        text-align: right;\n",
       "    }\n",
       "</style>\n",
       "<table border=\"1\" class=\"dataframe\">\n",
       "  <thead>\n",
       "    <tr style=\"text-align: right;\">\n",
       "      <th></th>\n",
       "      <th>sum_sq</th>\n",
       "      <th>df</th>\n",
       "      <th>F</th>\n",
       "      <th>PR(&gt;F)</th>\n",
       "    </tr>\n",
       "  </thead>\n",
       "  <tbody>\n",
       "    <tr>\n",
       "      <th>Intercept</th>\n",
       "      <td>5.005116e+15</td>\n",
       "      <td>1.0</td>\n",
       "      <td>130244.839805</td>\n",
       "      <td>0.000000e+00</td>\n",
       "    </tr>\n",
       "    <tr>\n",
       "      <th>Waterfront_View</th>\n",
       "      <td>1.082949e+13</td>\n",
       "      <td>1.0</td>\n",
       "      <td>281.808707</td>\n",
       "      <td>7.583771e-63</td>\n",
       "    </tr>\n",
       "    <tr>\n",
       "      <th>Residual</th>\n",
       "      <td>8.303250e+14</td>\n",
       "      <td>21607.0</td>\n",
       "      <td>NaN</td>\n",
       "      <td>NaN</td>\n",
       "    </tr>\n",
       "  </tbody>\n",
       "</table>\n",
       "</div>"
      ],
      "text/plain": [
       "                       sum_sq       df              F        PR(>F)\n",
       "Intercept        5.005116e+15      1.0  130244.839805  0.000000e+00\n",
       "Waterfront_View  1.082949e+13      1.0     281.808707  7.583771e-63\n",
       "Residual         8.303250e+14  21607.0            NaN           NaN"
      ]
     },
     "execution_count": 63,
     "metadata": {},
     "output_type": "execute_result"
    }
   ],
   "source": [
    "mod = ols('Sale_Price ~ Waterfront_View',data=data).fit()\n",
    "sm.stats.anova_lm(mod,typ=3)"
   ]
  },
  {
   "cell_type": "code",
   "execution_count": 64,
   "id": "51688546",
   "metadata": {},
   "outputs": [
    {
     "data": {
      "text/html": [
       "<div>\n",
       "<style scoped>\n",
       "    .dataframe tbody tr th:only-of-type {\n",
       "        vertical-align: middle;\n",
       "    }\n",
       "\n",
       "    .dataframe tbody tr th {\n",
       "        vertical-align: top;\n",
       "    }\n",
       "\n",
       "    .dataframe thead th {\n",
       "        text-align: right;\n",
       "    }\n",
       "</style>\n",
       "<table border=\"1\" class=\"dataframe\">\n",
       "  <thead>\n",
       "    <tr style=\"text-align: right;\">\n",
       "      <th></th>\n",
       "      <th>sum_sq</th>\n",
       "      <th>df</th>\n",
       "      <th>F</th>\n",
       "      <th>PR(&gt;F)</th>\n",
       "    </tr>\n",
       "  </thead>\n",
       "  <tbody>\n",
       "    <tr>\n",
       "      <th>No_of_Times_Visited</th>\n",
       "      <td>7.859129e+13</td>\n",
       "      <td>4.0</td>\n",
       "      <td>556.637878</td>\n",
       "      <td>0.0</td>\n",
       "    </tr>\n",
       "    <tr>\n",
       "      <th>Residual</th>\n",
       "      <td>7.625632e+14</td>\n",
       "      <td>21604.0</td>\n",
       "      <td>NaN</td>\n",
       "      <td>NaN</td>\n",
       "    </tr>\n",
       "  </tbody>\n",
       "</table>\n",
       "</div>"
      ],
      "text/plain": [
       "                           sum_sq       df           F  PR(>F)\n",
       "No_of_Times_Visited  7.859129e+13      4.0  556.637878     0.0\n",
       "Residual             7.625632e+14  21604.0         NaN     NaN"
      ]
     },
     "execution_count": 64,
     "metadata": {},
     "output_type": "execute_result"
    }
   ],
   "source": [
    "mod = ols('Sale_Price ~ No_of_Times_Visited',data=data).fit()\n",
    "sm.stats.anova_lm(mod,typ=2)"
   ]
  },
  {
   "cell_type": "code",
   "execution_count": 65,
   "id": "883bc5f3",
   "metadata": {},
   "outputs": [
    {
     "data": {
      "text/html": [
       "<div>\n",
       "<style scoped>\n",
       "    .dataframe tbody tr th:only-of-type {\n",
       "        vertical-align: middle;\n",
       "    }\n",
       "\n",
       "    .dataframe tbody tr th {\n",
       "        vertical-align: top;\n",
       "    }\n",
       "\n",
       "    .dataframe thead th {\n",
       "        text-align: right;\n",
       "    }\n",
       "</style>\n",
       "<table border=\"1\" class=\"dataframe\">\n",
       "  <thead>\n",
       "    <tr style=\"text-align: right;\">\n",
       "      <th></th>\n",
       "      <th>sum_sq</th>\n",
       "      <th>df</th>\n",
       "      <th>F</th>\n",
       "      <th>PR(&gt;F)</th>\n",
       "    </tr>\n",
       "  </thead>\n",
       "  <tbody>\n",
       "    <tr>\n",
       "      <th>Condition_of_the_House</th>\n",
       "      <td>1.005858e+13</td>\n",
       "      <td>4.0</td>\n",
       "      <td>65.367171</td>\n",
       "      <td>4.765904e-55</td>\n",
       "    </tr>\n",
       "    <tr>\n",
       "      <th>Residual</th>\n",
       "      <td>8.310959e+14</td>\n",
       "      <td>21604.0</td>\n",
       "      <td>NaN</td>\n",
       "      <td>NaN</td>\n",
       "    </tr>\n",
       "  </tbody>\n",
       "</table>\n",
       "</div>"
      ],
      "text/plain": [
       "                              sum_sq       df          F        PR(>F)\n",
       "Condition_of_the_House  1.005858e+13      4.0  65.367171  4.765904e-55\n",
       "Residual                8.310959e+14  21604.0        NaN           NaN"
      ]
     },
     "execution_count": 65,
     "metadata": {},
     "output_type": "execute_result"
    }
   ],
   "source": [
    "mod = ols('Sale_Price ~ Condition_of_the_House',data=data).fit()\n",
    "sm.stats.anova_lm(mod,typ=2)"
   ]
  },
  {
   "cell_type": "code",
   "execution_count": 66,
   "id": "be338c9d",
   "metadata": {},
   "outputs": [
    {
     "data": {
      "text/html": [
       "<div>\n",
       "<style scoped>\n",
       "    .dataframe tbody tr th:only-of-type {\n",
       "        vertical-align: middle;\n",
       "    }\n",
       "\n",
       "    .dataframe tbody tr th {\n",
       "        vertical-align: top;\n",
       "    }\n",
       "\n",
       "    .dataframe thead th {\n",
       "        text-align: right;\n",
       "    }\n",
       "</style>\n",
       "<table border=\"1\" class=\"dataframe\">\n",
       "  <thead>\n",
       "    <tr style=\"text-align: right;\">\n",
       "      <th></th>\n",
       "      <th>sum_sq</th>\n",
       "      <th>df</th>\n",
       "      <th>F</th>\n",
       "      <th>PR(&gt;F)</th>\n",
       "    </tr>\n",
       "  </thead>\n",
       "  <tbody>\n",
       "    <tr>\n",
       "      <th>Zipcode</th>\n",
       "      <td>4.511245e+14</td>\n",
       "      <td>69.0</td>\n",
       "      <td>361.056187</td>\n",
       "      <td>0.0</td>\n",
       "    </tr>\n",
       "    <tr>\n",
       "      <th>Residual</th>\n",
       "      <td>3.900300e+14</td>\n",
       "      <td>21539.0</td>\n",
       "      <td>NaN</td>\n",
       "      <td>NaN</td>\n",
       "    </tr>\n",
       "  </tbody>\n",
       "</table>\n",
       "</div>"
      ],
      "text/plain": [
       "                sum_sq       df           F  PR(>F)\n",
       "Zipcode   4.511245e+14     69.0  361.056187     0.0\n",
       "Residual  3.900300e+14  21539.0         NaN     NaN"
      ]
     },
     "execution_count": 66,
     "metadata": {},
     "output_type": "execute_result"
    }
   ],
   "source": [
    "mod = ols('Sale_Price ~ Zipcode',data=data).fit()\n",
    "sm.stats.anova_lm(mod,typ=2)"
   ]
  },
  {
   "cell_type": "code",
   "execution_count": 67,
   "id": "9619a3a9",
   "metadata": {},
   "outputs": [
    {
     "data": {
      "text/html": [
       "<div>\n",
       "<style scoped>\n",
       "    .dataframe tbody tr th:only-of-type {\n",
       "        vertical-align: middle;\n",
       "    }\n",
       "\n",
       "    .dataframe tbody tr th {\n",
       "        vertical-align: top;\n",
       "    }\n",
       "\n",
       "    .dataframe thead th {\n",
       "        text-align: right;\n",
       "    }\n",
       "</style>\n",
       "<table border=\"1\" class=\"dataframe\">\n",
       "  <thead>\n",
       "    <tr style=\"text-align: right;\">\n",
       "      <th></th>\n",
       "      <th>sum_sq</th>\n",
       "      <th>df</th>\n",
       "      <th>F</th>\n",
       "      <th>PR(&gt;F)</th>\n",
       "    </tr>\n",
       "  </thead>\n",
       "  <tbody>\n",
       "    <tr>\n",
       "      <th>house_is</th>\n",
       "      <td>1.042556e+13</td>\n",
       "      <td>2.0</td>\n",
       "      <td>135.576527</td>\n",
       "      <td>3.063868e-59</td>\n",
       "    </tr>\n",
       "    <tr>\n",
       "      <th>Residual</th>\n",
       "      <td>8.307289e+14</td>\n",
       "      <td>21606.0</td>\n",
       "      <td>NaN</td>\n",
       "      <td>NaN</td>\n",
       "    </tr>\n",
       "  </tbody>\n",
       "</table>\n",
       "</div>"
      ],
      "text/plain": [
       "                sum_sq       df           F        PR(>F)\n",
       "house_is  1.042556e+13      2.0  135.576527  3.063868e-59\n",
       "Residual  8.307289e+14  21606.0         NaN           NaN"
      ]
     },
     "execution_count": 67,
     "metadata": {},
     "output_type": "execute_result"
    }
   ],
   "source": [
    "mod = ols('Sale_Price ~ house_is',data=data).fit()\n",
    "sm.stats.anova_lm(mod,typ=2)"
   ]
  },
  {
   "cell_type": "code",
   "execution_count": 68,
   "id": "8597e0e1",
   "metadata": {},
   "outputs": [
    {
     "data": {
      "text/plain": [
       "No     21446\n",
       "Yes      163\n",
       "Name: Waterfront_View, dtype: int64"
      ]
     },
     "execution_count": 68,
     "metadata": {},
     "output_type": "execute_result"
    }
   ],
   "source": [
    "data['Waterfront_View'].value_counts()"
   ]
  },
  {
   "cell_type": "code",
   "execution_count": 69,
   "id": "710c95a0",
   "metadata": {},
   "outputs": [],
   "source": [
    "df = data.drop('Waterfront_View',axis=1)"
   ]
  },
  {
   "cell_type": "code",
   "execution_count": 70,
   "id": "40ecdaab",
   "metadata": {},
   "outputs": [
    {
     "data": {
      "text/html": [
       "<div>\n",
       "<style scoped>\n",
       "    .dataframe tbody tr th:only-of-type {\n",
       "        vertical-align: middle;\n",
       "    }\n",
       "\n",
       "    .dataframe tbody tr th {\n",
       "        vertical-align: top;\n",
       "    }\n",
       "\n",
       "    .dataframe thead th {\n",
       "        text-align: right;\n",
       "    }\n",
       "</style>\n",
       "<table border=\"1\" class=\"dataframe\">\n",
       "  <thead>\n",
       "    <tr style=\"text-align: right;\">\n",
       "      <th></th>\n",
       "      <th>Sale_Price</th>\n",
       "      <th>No of Bedrooms</th>\n",
       "      <th>No of Bathrooms</th>\n",
       "      <th>Flat Area (in Sqft)</th>\n",
       "      <th>Lot Area (in Sqft)</th>\n",
       "      <th>No of Floors</th>\n",
       "      <th>No_of_Times_Visited</th>\n",
       "      <th>Condition_of_the_House</th>\n",
       "      <th>Overall Grade</th>\n",
       "      <th>Area of the House from Basement (in Sqft)</th>\n",
       "      <th>...</th>\n",
       "      <th>Age of House (in Years)</th>\n",
       "      <th>Renovated Year</th>\n",
       "      <th>Zipcode</th>\n",
       "      <th>Latitude</th>\n",
       "      <th>Longitude</th>\n",
       "      <th>Living Area after Renovation (in Sqft)</th>\n",
       "      <th>Lot Area after Renovation (in Sqft)</th>\n",
       "      <th>no_of_years(house sold)</th>\n",
       "      <th>is_renovated</th>\n",
       "      <th>house_is</th>\n",
       "    </tr>\n",
       "  </thead>\n",
       "  <tbody>\n",
       "    <tr>\n",
       "      <th>13346</th>\n",
       "      <td>375000.0</td>\n",
       "      <td>3</td>\n",
       "      <td>2.25</td>\n",
       "      <td>1330.0</td>\n",
       "      <td>8004.0</td>\n",
       "      <td>2.0</td>\n",
       "      <td>None</td>\n",
       "      <td>Fair</td>\n",
       "      <td>7</td>\n",
       "      <td>1330.0</td>\n",
       "      <td>...</td>\n",
       "      <td>33</td>\n",
       "      <td>0</td>\n",
       "      <td>98034.0</td>\n",
       "      <td>47.7098</td>\n",
       "      <td>-122.217</td>\n",
       "      <td>1300.0</td>\n",
       "      <td>7971</td>\n",
       "      <td>5</td>\n",
       "      <td>0</td>\n",
       "      <td>Middle</td>\n",
       "    </tr>\n",
       "  </tbody>\n",
       "</table>\n",
       "<p>1 rows × 21 columns</p>\n",
       "</div>"
      ],
      "text/plain": [
       "       Sale_Price  No of Bedrooms  No of Bathrooms  Flat Area (in Sqft)  \\\n",
       "13346    375000.0               3             2.25               1330.0   \n",
       "\n",
       "       Lot Area (in Sqft)  No of Floors No_of_Times_Visited  \\\n",
       "13346              8004.0           2.0                None   \n",
       "\n",
       "      Condition_of_the_House  Overall Grade  \\\n",
       "13346                   Fair              7   \n",
       "\n",
       "       Area of the House from Basement (in Sqft)  ...  \\\n",
       "13346                                     1330.0  ...   \n",
       "\n",
       "       Age of House (in Years)  Renovated Year  Zipcode Latitude  Longitude  \\\n",
       "13346                       33               0  98034.0  47.7098   -122.217   \n",
       "\n",
       "       Living Area after Renovation (in Sqft)  \\\n",
       "13346                                  1300.0   \n",
       "\n",
       "       Lot Area after Renovation (in Sqft)  no_of_years(house sold)  \\\n",
       "13346                                 7971                        5   \n",
       "\n",
       "       is_renovated  house_is  \n",
       "13346             0    Middle  \n",
       "\n",
       "[1 rows x 21 columns]"
      ]
     },
     "execution_count": 70,
     "metadata": {},
     "output_type": "execute_result"
    }
   ],
   "source": [
    "df.sample()"
   ]
  },
  {
   "cell_type": "code",
   "execution_count": 71,
   "id": "5a6e2663",
   "metadata": {},
   "outputs": [
    {
     "data": {
      "text/plain": [
       "Sale_Price                                   float64\n",
       "No of Bedrooms                                 int64\n",
       "No of Bathrooms                              float64\n",
       "Flat Area (in Sqft)                          float64\n",
       "Lot Area (in Sqft)                           float64\n",
       "No of Floors                                 float64\n",
       "No_of_Times_Visited                           object\n",
       "Condition_of_the_House                        object\n",
       "Overall Grade                                  int64\n",
       "Area of the House from Basement (in Sqft)    float64\n",
       "Basement Area (in Sqft)                        int64\n",
       "Age of House (in Years)                        int64\n",
       "Renovated Year                                 int64\n",
       "Zipcode                                       object\n",
       "Latitude                                     float64\n",
       "Longitude                                    float64\n",
       "Living Area after Renovation (in Sqft)       float64\n",
       "Lot Area after Renovation (in Sqft)            int64\n",
       "no_of_years(house sold)                        int64\n",
       "is_renovated                                   int32\n",
       "house_is                                      object\n",
       "dtype: object"
      ]
     },
     "execution_count": 71,
     "metadata": {},
     "output_type": "execute_result"
    }
   ],
   "source": [
    "df.dtypes"
   ]
  },
  {
   "cell_type": "code",
   "execution_count": 72,
   "id": "4d876e84",
   "metadata": {},
   "outputs": [
    {
     "data": {
      "text/plain": [
       "None      19485\n",
       "Twice       963\n",
       "Thrice      510\n",
       "Once        332\n",
       "Four        319\n",
       "Name: No_of_Times_Visited, dtype: int64"
      ]
     },
     "execution_count": 72,
     "metadata": {},
     "output_type": "execute_result"
    }
   ],
   "source": [
    "df['No_of_Times_Visited'].value_counts()"
   ]
  },
  {
   "cell_type": "code",
   "execution_count": 73,
   "id": "3928a626",
   "metadata": {},
   "outputs": [],
   "source": [
    "count = {'None':0,\n",
    "        'Once':1,\n",
    "        'Twice':2,\n",
    "        'Thrice':3,\n",
    "        'Four':4}\n"
   ]
  },
  {
   "cell_type": "code",
   "execution_count": 74,
   "id": "a89ce1fb",
   "metadata": {},
   "outputs": [],
   "source": [
    "df['No_of_Times_Visited'] = df['No_of_Times_Visited'].map(count)"
   ]
  },
  {
   "cell_type": "code",
   "execution_count": 75,
   "id": "d6327e53",
   "metadata": {},
   "outputs": [
    {
     "data": {
      "text/plain": [
       "0    19485\n",
       "2      963\n",
       "3      510\n",
       "1      332\n",
       "4      319\n",
       "Name: No_of_Times_Visited, dtype: int64"
      ]
     },
     "execution_count": 75,
     "metadata": {},
     "output_type": "execute_result"
    }
   ],
   "source": [
    "df['No_of_Times_Visited'].value_counts()"
   ]
  },
  {
   "cell_type": "code",
   "execution_count": 76,
   "id": "254d60e5",
   "metadata": {},
   "outputs": [
    {
     "data": {
      "text/plain": [
       "Fair         14028\n",
       "Good          5678\n",
       "Excellent     1701\n",
       "Okay           172\n",
       "Bad             30\n",
       "Name: Condition_of_the_House, dtype: int64"
      ]
     },
     "execution_count": 76,
     "metadata": {},
     "output_type": "execute_result"
    }
   ],
   "source": [
    "df['Condition_of_the_House'].value_counts()"
   ]
  },
  {
   "cell_type": "code",
   "execution_count": 77,
   "id": "d2450cea",
   "metadata": {},
   "outputs": [
    {
     "data": {
      "text/plain": [
       "<AxesSubplot:xlabel='Condition_of_the_House', ylabel='Sale_Price'>"
      ]
     },
     "execution_count": 77,
     "metadata": {},
     "output_type": "execute_result"
    },
    {
     "data": {
      "image/png": "[encoded data removed]",
      "text/plain": [
       "<Figure size 432x288 with 1 Axes>"
      ]
     },
     "metadata": {
      "needs_background": "light"
     },
     "output_type": "display_data"
    }
   ],
   "source": [
    "sns.barplot(data['Condition_of_the_House'],data['Sale_Price'])"
   ]
  },
  {
   "cell_type": "code",
   "execution_count": 78,
   "id": "3fae4a32",
   "metadata": {},
   "outputs": [],
   "source": [
    "mapping = {'Excellent':3,\n",
    "          'Fair':2,\n",
    "          'Good':2,\n",
    "          'Okay':1,\n",
    "          'Bad':1}"
   ]
  },
  {
   "cell_type": "code",
   "execution_count": 79,
   "id": "79f18f7c",
   "metadata": {},
   "outputs": [],
   "source": [
    "df['Condition_of_the_House'] = df['Condition_of_the_House'].map(mapping)"
   ]
  },
  {
   "cell_type": "code",
   "execution_count": 80,
   "id": "5cf04e1e",
   "metadata": {},
   "outputs": [
    {
     "data": {
      "text/plain": [
       "2    19706\n",
       "3     1701\n",
       "1      202\n",
       "Name: Condition_of_the_House, dtype: int64"
      ]
     },
     "execution_count": 80,
     "metadata": {},
     "output_type": "execute_result"
    }
   ],
   "source": [
    "df['Condition_of_the_House'].value_counts()"
   ]
  },
  {
   "cell_type": "code",
   "execution_count": 81,
   "id": "013e32e9",
   "metadata": {
    "scrolled": true
   },
   "outputs": [
    {
     "data": {
      "text/plain": [
       "<AxesSubplot:xlabel='Condition_of_the_House', ylabel='Sale_Price'>"
      ]
     },
     "execution_count": 81,
     "metadata": {},
     "output_type": "execute_result"
    },
    {
     "data": {
      "image/png": "[encoded data removed]",
      "text/plain": [
       "<Figure size 432x288 with 1 Axes>"
      ]
     },
     "metadata": {
      "needs_background": "light"
     },
     "output_type": "display_data"
    }
   ],
   "source": [
    "sns.barplot(df['Condition_of_the_House'],df['Sale_Price'])"
   ]
  },
  {
   "cell_type": "code",
   "execution_count": 82,
   "id": "e0086548",
   "metadata": {},
   "outputs": [
    {
     "data": {
      "text/plain": [
       "<AxesSubplot:xlabel='Zipcode', ylabel='Sale_Price'>"
      ]
     },
     "execution_count": 82,
     "metadata": {},
     "output_type": "execute_result"
    },
    {
     "data": {
      "image/png": "[encoded data removed]",
      "text/plain": [
       "<Figure size 432x288 with 1 Axes>"
      ]
     },
     "metadata": {
      "needs_background": "light"
     },
     "output_type": "display_data"
    }
   ],
   "source": [
    "sns.barplot(x=data['Zipcode'],y=data['Sale_Price'])"
   ]
  },
  {
   "cell_type": "code",
   "execution_count": 83,
   "id": "b3b921d5",
   "metadata": {},
   "outputs": [
    {
     "data": {
      "text/plain": [
       "<AxesSubplot:xlabel='Zipcode', ylabel='Count'>"
      ]
     },
     "execution_count": 83,
     "metadata": {},
     "output_type": "execute_result"
    },
    {
     "data": {
      "image/png": "[encoded data removed]",
      "text/plain": [
       "<Figure size 432x288 with 1 Axes>"
      ]
     },
     "metadata": {
      "needs_background": "light"
     },
     "output_type": "display_data"
    }
   ],
   "source": [
    "sns.histplot(data['Zipcode'])"
   ]
  },
  {
   "cell_type": "code",
   "execution_count": 84,
   "id": "18a87b30",
   "metadata": {},
   "outputs": [],
   "source": [
    "table = df.groupby('Zipcode').agg({'Sale_Price':'mean'}).sort_values('Sale_Price',ascending=True)"
   ]
  },
  {
   "cell_type": "code",
   "execution_count": 85,
   "id": "8cf1388a",
   "metadata": {},
   "outputs": [],
   "source": [
    "table['Zipcode_table'] = pd.cut(table['Sale_Price'],bins=10,labels=['Zipcode_1',\n",
    "                                                                   'Zipcode_2',\n",
    "                                                                   'Zipcode_3',\n",
    "                                                                   'Zipcode_4',\n",
    "                                                                   'Zipcode_5',\n",
    "                                                                    'Zipcode_6',\n",
    "                                                                    'Zipcode_7',\n",
    "                                                                    'Zipcode_8',\n",
    "                                                                    'Zipcode_9',\n",
    "                                                                    'Zipcode_10'],include_lowest=True)"
   ]
  },
  {
   "cell_type": "code",
   "execution_count": 86,
   "id": "97bafbb5",
   "metadata": {},
   "outputs": [],
   "source": [
    "df = pd.merge(df,table,left_on='Zipcode',how='left',right_index=True)"
   ]
  },
  {
   "cell_type": "code",
   "execution_count": 87,
   "id": "c42d422c",
   "metadata": {},
   "outputs": [
    {
     "data": {
      "text/html": [
       "<div>\n",
       "<style scoped>\n",
       "    .dataframe tbody tr th:only-of-type {\n",
       "        vertical-align: middle;\n",
       "    }\n",
       "\n",
       "    .dataframe tbody tr th {\n",
       "        vertical-align: top;\n",
       "    }\n",
       "\n",
       "    .dataframe thead th {\n",
       "        text-align: right;\n",
       "    }\n",
       "</style>\n",
       "<table border=\"1\" class=\"dataframe\">\n",
       "  <thead>\n",
       "    <tr style=\"text-align: right;\">\n",
       "      <th></th>\n",
       "      <th>Sale_Price_x</th>\n",
       "      <th>No of Bedrooms</th>\n",
       "      <th>No of Bathrooms</th>\n",
       "      <th>Flat Area (in Sqft)</th>\n",
       "      <th>Lot Area (in Sqft)</th>\n",
       "      <th>No of Floors</th>\n",
       "      <th>No_of_Times_Visited</th>\n",
       "      <th>Condition_of_the_House</th>\n",
       "      <th>Overall Grade</th>\n",
       "      <th>Area of the House from Basement (in Sqft)</th>\n",
       "      <th>...</th>\n",
       "      <th>Zipcode</th>\n",
       "      <th>Latitude</th>\n",
       "      <th>Longitude</th>\n",
       "      <th>Living Area after Renovation (in Sqft)</th>\n",
       "      <th>Lot Area after Renovation (in Sqft)</th>\n",
       "      <th>no_of_years(house sold)</th>\n",
       "      <th>is_renovated</th>\n",
       "      <th>house_is</th>\n",
       "      <th>Sale_Price_y</th>\n",
       "      <th>Zipcode_table</th>\n",
       "    </tr>\n",
       "  </thead>\n",
       "  <tbody>\n",
       "    <tr>\n",
       "      <th>9859</th>\n",
       "      <td>450000.0</td>\n",
       "      <td>5</td>\n",
       "      <td>2.5</td>\n",
       "      <td>1900.0</td>\n",
       "      <td>9460.0</td>\n",
       "      <td>1.0</td>\n",
       "      <td>0</td>\n",
       "      <td>2</td>\n",
       "      <td>7</td>\n",
       "      <td>1190.0</td>\n",
       "      <td>...</td>\n",
       "      <td>98034.0</td>\n",
       "      <td>47.7096</td>\n",
       "      <td>-122.202</td>\n",
       "      <td>1940.0</td>\n",
       "      <td>8360</td>\n",
       "      <td>6</td>\n",
       "      <td>0</td>\n",
       "      <td>Middle</td>\n",
       "      <td>480593.402574</td>\n",
       "      <td>Zipcode_5</td>\n",
       "    </tr>\n",
       "    <tr>\n",
       "      <th>15696</th>\n",
       "      <td>450000.0</td>\n",
       "      <td>3</td>\n",
       "      <td>2.5</td>\n",
       "      <td>3800.0</td>\n",
       "      <td>13071.0</td>\n",
       "      <td>2.0</td>\n",
       "      <td>0</td>\n",
       "      <td>2</td>\n",
       "      <td>10</td>\n",
       "      <td>2730.0</td>\n",
       "      <td>...</td>\n",
       "      <td>98023.0</td>\n",
       "      <td>47.3076</td>\n",
       "      <td>-122.397</td>\n",
       "      <td>2980.0</td>\n",
       "      <td>11110</td>\n",
       "      <td>6</td>\n",
       "      <td>0</td>\n",
       "      <td>Middle</td>\n",
       "      <td>285189.182731</td>\n",
       "      <td>Zipcode_1</td>\n",
       "    </tr>\n",
       "    <tr>\n",
       "      <th>20986</th>\n",
       "      <td>334900.0</td>\n",
       "      <td>2</td>\n",
       "      <td>2.5</td>\n",
       "      <td>980.0</td>\n",
       "      <td>1013.0</td>\n",
       "      <td>3.0</td>\n",
       "      <td>0</td>\n",
       "      <td>2</td>\n",
       "      <td>8</td>\n",
       "      <td>980.0</td>\n",
       "      <td>...</td>\n",
       "      <td>98117.0</td>\n",
       "      <td>47.6844</td>\n",
       "      <td>-122.387</td>\n",
       "      <td>980.0</td>\n",
       "      <td>1023</td>\n",
       "      <td>5</td>\n",
       "      <td>0</td>\n",
       "      <td>New</td>\n",
       "      <td>558047.043400</td>\n",
       "      <td>Zipcode_6</td>\n",
       "    </tr>\n",
       "    <tr>\n",
       "      <th>18741</th>\n",
       "      <td>488000.0</td>\n",
       "      <td>2</td>\n",
       "      <td>2.0</td>\n",
       "      <td>1360.0</td>\n",
       "      <td>4688.0</td>\n",
       "      <td>1.0</td>\n",
       "      <td>0</td>\n",
       "      <td>2</td>\n",
       "      <td>7</td>\n",
       "      <td>780.0</td>\n",
       "      <td>...</td>\n",
       "      <td>98115.0</td>\n",
       "      <td>47.6874</td>\n",
       "      <td>-122.315</td>\n",
       "      <td>1340.0</td>\n",
       "      <td>4750</td>\n",
       "      <td>5</td>\n",
       "      <td>0</td>\n",
       "      <td>Old</td>\n",
       "      <td>583463.433962</td>\n",
       "      <td>Zipcode_7</td>\n",
       "    </tr>\n",
       "    <tr>\n",
       "      <th>16957</th>\n",
       "      <td>575000.0</td>\n",
       "      <td>3</td>\n",
       "      <td>2.5</td>\n",
       "      <td>1590.0</td>\n",
       "      <td>2910.0</td>\n",
       "      <td>2.0</td>\n",
       "      <td>0</td>\n",
       "      <td>2</td>\n",
       "      <td>7</td>\n",
       "      <td>1110.0</td>\n",
       "      <td>...</td>\n",
       "      <td>98115.0</td>\n",
       "      <td>47.6855</td>\n",
       "      <td>-122.321</td>\n",
       "      <td>1590.0</td>\n",
       "      <td>3880</td>\n",
       "      <td>5</td>\n",
       "      <td>0</td>\n",
       "      <td>Middle</td>\n",
       "      <td>583463.433962</td>\n",
       "      <td>Zipcode_7</td>\n",
       "    </tr>\n",
       "  </tbody>\n",
       "</table>\n",
       "<p>5 rows × 23 columns</p>\n",
       "</div>"
      ],
      "text/plain": [
       "       Sale_Price_x  No of Bedrooms  No of Bathrooms  Flat Area (in Sqft)  \\\n",
       "9859       450000.0               5              2.5               1900.0   \n",
       "15696      450000.0               3              2.5               3800.0   \n",
       "20986      334900.0               2              2.5                980.0   \n",
       "18741      488000.0               2              2.0               1360.0   \n",
       "16957      575000.0               3              2.5               1590.0   \n",
       "\n",
       "       Lot Area (in Sqft)  No of Floors  No_of_Times_Visited  \\\n",
       "9859               9460.0           1.0                    0   \n",
       "15696             13071.0           2.0                    0   \n",
       "20986              1013.0           3.0                    0   \n",
       "18741              4688.0           1.0                    0   \n",
       "16957              2910.0           2.0                    0   \n",
       "\n",
       "       Condition_of_the_House  Overall Grade  \\\n",
       "9859                        2              7   \n",
       "15696                       2             10   \n",
       "20986                       2              8   \n",
       "18741                       2              7   \n",
       "16957                       2              7   \n",
       "\n",
       "       Area of the House from Basement (in Sqft)  ...  Zipcode  Latitude  \\\n",
       "9859                                      1190.0  ...  98034.0   47.7096   \n",
       "15696                                     2730.0  ...  98023.0   47.3076   \n",
       "20986                                      980.0  ...  98117.0   47.6844   \n",
       "18741                                      780.0  ...  98115.0   47.6874   \n",
       "16957                                     1110.0  ...  98115.0   47.6855   \n",
       "\n",
       "       Longitude Living Area after Renovation (in Sqft)  \\\n",
       "9859    -122.202                                 1940.0   \n",
       "15696   -122.397                                 2980.0   \n",
       "20986   -122.387                                  980.0   \n",
       "18741   -122.315                                 1340.0   \n",
       "16957   -122.321                                 1590.0   \n",
       "\n",
       "       Lot Area after Renovation (in Sqft)  no_of_years(house sold)  \\\n",
       "9859                                  8360                        6   \n",
       "15696                                11110                        6   \n",
       "20986                                 1023                        5   \n",
       "18741                                 4750                        5   \n",
       "16957                                 3880                        5   \n",
       "\n",
       "       is_renovated  house_is   Sale_Price_y  Zipcode_table  \n",
       "9859              0    Middle  480593.402574      Zipcode_5  \n",
       "15696             0    Middle  285189.182731      Zipcode_1  \n",
       "20986             0       New  558047.043400      Zipcode_6  \n",
       "18741             0       Old  583463.433962      Zipcode_7  \n",
       "16957             0    Middle  583463.433962      Zipcode_7  \n",
       "\n",
       "[5 rows x 23 columns]"
      ]
     },
     "execution_count": 87,
     "metadata": {},
     "output_type": "execute_result"
    }
   ],
   "source": [
    "df.sample(5)"
   ]
  },
  {
   "cell_type": "code",
   "execution_count": 88,
   "id": "e1fe5c3c",
   "metadata": {},
   "outputs": [],
   "source": [
    "df.drop('Zipcode',axis=1,inplace=True)"
   ]
  },
  {
   "cell_type": "code",
   "execution_count": 89,
   "id": "c5abdeb9",
   "metadata": {},
   "outputs": [
    {
     "data": {
      "text/html": [
       "<div>\n",
       "<style scoped>\n",
       "    .dataframe tbody tr th:only-of-type {\n",
       "        vertical-align: middle;\n",
       "    }\n",
       "\n",
       "    .dataframe tbody tr th {\n",
       "        vertical-align: top;\n",
       "    }\n",
       "\n",
       "    .dataframe thead th {\n",
       "        text-align: right;\n",
       "    }\n",
       "</style>\n",
       "<table border=\"1\" class=\"dataframe\">\n",
       "  <thead>\n",
       "    <tr style=\"text-align: right;\">\n",
       "      <th></th>\n",
       "      <th>Sale_Price_x</th>\n",
       "      <th>No of Bedrooms</th>\n",
       "      <th>No of Bathrooms</th>\n",
       "      <th>Flat Area (in Sqft)</th>\n",
       "      <th>Lot Area (in Sqft)</th>\n",
       "      <th>No of Floors</th>\n",
       "      <th>No_of_Times_Visited</th>\n",
       "      <th>Condition_of_the_House</th>\n",
       "      <th>Overall Grade</th>\n",
       "      <th>Area of the House from Basement (in Sqft)</th>\n",
       "      <th>...</th>\n",
       "      <th>Renovated Year</th>\n",
       "      <th>Latitude</th>\n",
       "      <th>Longitude</th>\n",
       "      <th>Living Area after Renovation (in Sqft)</th>\n",
       "      <th>Lot Area after Renovation (in Sqft)</th>\n",
       "      <th>no_of_years(house sold)</th>\n",
       "      <th>is_renovated</th>\n",
       "      <th>house_is</th>\n",
       "      <th>Sale_Price_y</th>\n",
       "      <th>Zipcode_table</th>\n",
       "    </tr>\n",
       "  </thead>\n",
       "  <tbody>\n",
       "    <tr>\n",
       "      <th>13068</th>\n",
       "      <td>806525.0</td>\n",
       "      <td>4</td>\n",
       "      <td>4.5</td>\n",
       "      <td>3860.0</td>\n",
       "      <td>15246.0</td>\n",
       "      <td>2.0</td>\n",
       "      <td>4</td>\n",
       "      <td>2</td>\n",
       "      <td>10</td>\n",
       "      <td>2940.0</td>\n",
       "      <td>...</td>\n",
       "      <td>0</td>\n",
       "      <td>47.56</td>\n",
       "      <td>-122.161</td>\n",
       "      <td>3750.0</td>\n",
       "      <td>14790</td>\n",
       "      <td>5</td>\n",
       "      <td>0</td>\n",
       "      <td>Middle</td>\n",
       "      <td>685984.584337</td>\n",
       "      <td>Zipcode_8</td>\n",
       "    </tr>\n",
       "  </tbody>\n",
       "</table>\n",
       "<p>1 rows × 22 columns</p>\n",
       "</div>"
      ],
      "text/plain": [
       "       Sale_Price_x  No of Bedrooms  No of Bathrooms  Flat Area (in Sqft)  \\\n",
       "13068      806525.0               4              4.5               3860.0   \n",
       "\n",
       "       Lot Area (in Sqft)  No of Floors  No_of_Times_Visited  \\\n",
       "13068             15246.0           2.0                    4   \n",
       "\n",
       "       Condition_of_the_House  Overall Grade  \\\n",
       "13068                       2             10   \n",
       "\n",
       "       Area of the House from Basement (in Sqft)  ...  Renovated Year  \\\n",
       "13068                                     2940.0  ...               0   \n",
       "\n",
       "       Latitude  Longitude  Living Area after Renovation (in Sqft)  \\\n",
       "13068     47.56   -122.161                                  3750.0   \n",
       "\n",
       "       Lot Area after Renovation (in Sqft)  no_of_years(house sold)  \\\n",
       "13068                                14790                        5   \n",
       "\n",
       "       is_renovated  house_is   Sale_Price_y Zipcode_table  \n",
       "13068             0    Middle  685984.584337     Zipcode_8  \n",
       "\n",
       "[1 rows x 22 columns]"
      ]
     },
     "execution_count": 89,
     "metadata": {},
     "output_type": "execute_result"
    }
   ],
   "source": [
    "df.sample()"
   ]
  },
  {
   "cell_type": "code",
   "execution_count": 90,
   "id": "37f7e076",
   "metadata": {},
   "outputs": [
    {
     "data": {
      "text/plain": [
       "Sale_Price_x                                  float64\n",
       "No of Bedrooms                                  int64\n",
       "No of Bathrooms                               float64\n",
       "Flat Area (in Sqft)                           float64\n",
       "Lot Area (in Sqft)                            float64\n",
       "No of Floors                                  float64\n",
       "No_of_Times_Visited                             int64\n",
       "Condition_of_the_House                          int64\n",
       "Overall Grade                                   int64\n",
       "Area of the House from Basement (in Sqft)     float64\n",
       "Basement Area (in Sqft)                         int64\n",
       "Age of House (in Years)                         int64\n",
       "Renovated Year                                  int64\n",
       "Latitude                                      float64\n",
       "Longitude                                     float64\n",
       "Living Area after Renovation (in Sqft)        float64\n",
       "Lot Area after Renovation (in Sqft)             int64\n",
       "no_of_years(house sold)                         int64\n",
       "is_renovated                                    int32\n",
       "house_is                                       object\n",
       "Sale_Price_y                                  float64\n",
       "Zipcode_table                                category\n",
       "dtype: object"
      ]
     },
     "execution_count": 90,
     "metadata": {},
     "output_type": "execute_result"
    }
   ],
   "source": [
    "df.dtypes"
   ]
  },
  {
   "cell_type": "code",
   "execution_count": 91,
   "id": "1ba24924",
   "metadata": {},
   "outputs": [
    {
     "data": {
      "text/plain": [
       "array(['Old', 'Middle', 'New'], dtype=object)"
      ]
     },
     "execution_count": 91,
     "metadata": {},
     "output_type": "execute_result"
    }
   ],
   "source": [
    "df['house_is'].unique()"
   ]
  },
  {
   "cell_type": "code",
   "execution_count": 92,
   "id": "187d10ab",
   "metadata": {},
   "outputs": [],
   "source": [
    "labels = {'New':0,\n",
    "        'Middle':1,\n",
    "         'Old':2}"
   ]
  },
  {
   "cell_type": "code",
   "execution_count": 93,
   "id": "3fc28eea",
   "metadata": {},
   "outputs": [],
   "source": [
    "df['house_is'] = df['house_is'].map(labels)"
   ]
  },
  {
   "cell_type": "code",
   "execution_count": 94,
   "id": "2e11b7a6",
   "metadata": {},
   "outputs": [
    {
     "data": {
      "text/plain": [
       "array([2, 1, 0], dtype=int64)"
      ]
     },
     "execution_count": 94,
     "metadata": {},
     "output_type": "execute_result"
    }
   ],
   "source": [
    "df['house_is'].unique()"
   ]
  },
  {
   "cell_type": "code",
   "execution_count": 95,
   "id": "7fabde16",
   "metadata": {},
   "outputs": [
    {
     "data": {
      "text/plain": [
       "Sale_Price_x                                  float64\n",
       "No of Bedrooms                                  int64\n",
       "No of Bathrooms                               float64\n",
       "Flat Area (in Sqft)                           float64\n",
       "Lot Area (in Sqft)                            float64\n",
       "No of Floors                                  float64\n",
       "No_of_Times_Visited                             int64\n",
       "Condition_of_the_House                          int64\n",
       "Overall Grade                                   int64\n",
       "Area of the House from Basement (in Sqft)     float64\n",
       "Basement Area (in Sqft)                         int64\n",
       "Age of House (in Years)                         int64\n",
       "Renovated Year                                  int64\n",
       "Latitude                                      float64\n",
       "Longitude                                     float64\n",
       "Living Area after Renovation (in Sqft)        float64\n",
       "Lot Area after Renovation (in Sqft)             int64\n",
       "no_of_years(house sold)                         int64\n",
       "is_renovated                                    int32\n",
       "house_is                                        int64\n",
       "Sale_Price_y                                  float64\n",
       "Zipcode_table                                category\n",
       "dtype: object"
      ]
     },
     "execution_count": 95,
     "metadata": {},
     "output_type": "execute_result"
    }
   ],
   "source": [
    "df.dtypes"
   ]
  },
  {
   "cell_type": "code",
   "execution_count": 96,
   "id": "5cec7ed8",
   "metadata": {},
   "outputs": [],
   "source": [
    "df = pd.get_dummies(df,columns=['Zipcode_table'],drop_first=True)"
   ]
  },
  {
   "cell_type": "code",
   "execution_count": 97,
   "id": "003c7530",
   "metadata": {},
   "outputs": [
    {
     "data": {
      "text/html": [
       "<div>\n",
       "<style scoped>\n",
       "    .dataframe tbody tr th:only-of-type {\n",
       "        vertical-align: middle;\n",
       "    }\n",
       "\n",
       "    .dataframe tbody tr th {\n",
       "        vertical-align: top;\n",
       "    }\n",
       "\n",
       "    .dataframe thead th {\n",
       "        text-align: right;\n",
       "    }\n",
       "</style>\n",
       "<table border=\"1\" class=\"dataframe\">\n",
       "  <thead>\n",
       "    <tr style=\"text-align: right;\">\n",
       "      <th></th>\n",
       "      <th>Sale_Price_x</th>\n",
       "      <th>No of Bedrooms</th>\n",
       "      <th>No of Bathrooms</th>\n",
       "      <th>Flat Area (in Sqft)</th>\n",
       "      <th>Lot Area (in Sqft)</th>\n",
       "      <th>No of Floors</th>\n",
       "      <th>No_of_Times_Visited</th>\n",
       "      <th>Condition_of_the_House</th>\n",
       "      <th>Overall Grade</th>\n",
       "      <th>Area of the House from Basement (in Sqft)</th>\n",
       "      <th>...</th>\n",
       "      <th>Sale_Price_y</th>\n",
       "      <th>Zipcode_table_Zipcode_2</th>\n",
       "      <th>Zipcode_table_Zipcode_3</th>\n",
       "      <th>Zipcode_table_Zipcode_4</th>\n",
       "      <th>Zipcode_table_Zipcode_5</th>\n",
       "      <th>Zipcode_table_Zipcode_6</th>\n",
       "      <th>Zipcode_table_Zipcode_7</th>\n",
       "      <th>Zipcode_table_Zipcode_8</th>\n",
       "      <th>Zipcode_table_Zipcode_9</th>\n",
       "      <th>Zipcode_table_Zipcode_10</th>\n",
       "    </tr>\n",
       "  </thead>\n",
       "  <tbody>\n",
       "    <tr>\n",
       "      <th>15525</th>\n",
       "      <td>262000.0</td>\n",
       "      <td>4</td>\n",
       "      <td>1.5</td>\n",
       "      <td>1840.0</td>\n",
       "      <td>9009.0</td>\n",
       "      <td>2.0</td>\n",
       "      <td>0</td>\n",
       "      <td>2</td>\n",
       "      <td>7</td>\n",
       "      <td>1840.0</td>\n",
       "      <td>...</td>\n",
       "      <td>298736.560714</td>\n",
       "      <td>1</td>\n",
       "      <td>0</td>\n",
       "      <td>0</td>\n",
       "      <td>0</td>\n",
       "      <td>0</td>\n",
       "      <td>0</td>\n",
       "      <td>0</td>\n",
       "      <td>0</td>\n",
       "      <td>0</td>\n",
       "    </tr>\n",
       "  </tbody>\n",
       "</table>\n",
       "<p>1 rows × 30 columns</p>\n",
       "</div>"
      ],
      "text/plain": [
       "       Sale_Price_x  No of Bedrooms  No of Bathrooms  Flat Area (in Sqft)  \\\n",
       "15525      262000.0               4              1.5               1840.0   \n",
       "\n",
       "       Lot Area (in Sqft)  No of Floors  No_of_Times_Visited  \\\n",
       "15525              9009.0           2.0                    0   \n",
       "\n",
       "       Condition_of_the_House  Overall Grade  \\\n",
       "15525                       2              7   \n",
       "\n",
       "       Area of the House from Basement (in Sqft)  ...   Sale_Price_y  \\\n",
       "15525                                     1840.0  ...  298736.560714   \n",
       "\n",
       "       Zipcode_table_Zipcode_2  Zipcode_table_Zipcode_3  \\\n",
       "15525                        1                        0   \n",
       "\n",
       "       Zipcode_table_Zipcode_4  Zipcode_table_Zipcode_5  \\\n",
       "15525                        0                        0   \n",
       "\n",
       "       Zipcode_table_Zipcode_6  Zipcode_table_Zipcode_7  \\\n",
       "15525                        0                        0   \n",
       "\n",
       "       Zipcode_table_Zipcode_8  Zipcode_table_Zipcode_9  \\\n",
       "15525                        0                        0   \n",
       "\n",
       "       Zipcode_table_Zipcode_10  \n",
       "15525                         0  \n",
       "\n",
       "[1 rows x 30 columns]"
      ]
     },
     "execution_count": 97,
     "metadata": {},
     "output_type": "execute_result"
    }
   ],
   "source": [
    "df.sample()"
   ]
  },
  {
   "cell_type": "code",
   "execution_count": 98,
   "id": "8741c6e6",
   "metadata": {},
   "outputs": [
    {
     "data": {
      "text/html": [
       "<div>\n",
       "<style scoped>\n",
       "    .dataframe tbody tr th:only-of-type {\n",
       "        vertical-align: middle;\n",
       "    }\n",
       "\n",
       "    .dataframe tbody tr th {\n",
       "        vertical-align: top;\n",
       "    }\n",
       "\n",
       "    .dataframe thead th {\n",
       "        text-align: right;\n",
       "    }\n",
       "</style>\n",
       "<table border=\"1\" class=\"dataframe\">\n",
       "  <thead>\n",
       "    <tr style=\"text-align: right;\">\n",
       "      <th></th>\n",
       "      <th>Sale_Price_x</th>\n",
       "      <th>No of Bedrooms</th>\n",
       "      <th>No of Bathrooms</th>\n",
       "      <th>Flat Area (in Sqft)</th>\n",
       "      <th>Lot Area (in Sqft)</th>\n",
       "      <th>No of Floors</th>\n",
       "      <th>No_of_Times_Visited</th>\n",
       "      <th>Condition_of_the_House</th>\n",
       "      <th>Overall Grade</th>\n",
       "      <th>Area of the House from Basement (in Sqft)</th>\n",
       "      <th>...</th>\n",
       "      <th>Sale_Price_y</th>\n",
       "      <th>Zipcode_table_Zipcode_2</th>\n",
       "      <th>Zipcode_table_Zipcode_3</th>\n",
       "      <th>Zipcode_table_Zipcode_4</th>\n",
       "      <th>Zipcode_table_Zipcode_5</th>\n",
       "      <th>Zipcode_table_Zipcode_6</th>\n",
       "      <th>Zipcode_table_Zipcode_7</th>\n",
       "      <th>Zipcode_table_Zipcode_8</th>\n",
       "      <th>Zipcode_table_Zipcode_9</th>\n",
       "      <th>Zipcode_table_Zipcode_10</th>\n",
       "    </tr>\n",
       "  </thead>\n",
       "  <tbody>\n",
       "    <tr>\n",
       "      <th>0</th>\n",
       "      <td>221900.0</td>\n",
       "      <td>3</td>\n",
       "      <td>1.00</td>\n",
       "      <td>1180.0</td>\n",
       "      <td>5650.0</td>\n",
       "      <td>1.0</td>\n",
       "      <td>0</td>\n",
       "      <td>2</td>\n",
       "      <td>7</td>\n",
       "      <td>1180.0</td>\n",
       "      <td>...</td>\n",
       "      <td>305643.767176</td>\n",
       "      <td>1</td>\n",
       "      <td>0</td>\n",
       "      <td>0</td>\n",
       "      <td>0</td>\n",
       "      <td>0</td>\n",
       "      <td>0</td>\n",
       "      <td>0</td>\n",
       "      <td>0</td>\n",
       "      <td>0</td>\n",
       "    </tr>\n",
       "    <tr>\n",
       "      <th>1</th>\n",
       "      <td>538000.0</td>\n",
       "      <td>3</td>\n",
       "      <td>2.25</td>\n",
       "      <td>2570.0</td>\n",
       "      <td>7242.0</td>\n",
       "      <td>2.0</td>\n",
       "      <td>0</td>\n",
       "      <td>2</td>\n",
       "      <td>7</td>\n",
       "      <td>2170.0</td>\n",
       "      <td>...</td>\n",
       "      <td>453284.856098</td>\n",
       "      <td>0</td>\n",
       "      <td>0</td>\n",
       "      <td>1</td>\n",
       "      <td>0</td>\n",
       "      <td>0</td>\n",
       "      <td>0</td>\n",
       "      <td>0</td>\n",
       "      <td>0</td>\n",
       "      <td>0</td>\n",
       "    </tr>\n",
       "    <tr>\n",
       "      <th>2</th>\n",
       "      <td>180000.0</td>\n",
       "      <td>2</td>\n",
       "      <td>1.00</td>\n",
       "      <td>770.0</td>\n",
       "      <td>10000.0</td>\n",
       "      <td>1.0</td>\n",
       "      <td>0</td>\n",
       "      <td>2</td>\n",
       "      <td>6</td>\n",
       "      <td>770.0</td>\n",
       "      <td>...</td>\n",
       "      <td>456867.491166</td>\n",
       "      <td>0</td>\n",
       "      <td>0</td>\n",
       "      <td>1</td>\n",
       "      <td>0</td>\n",
       "      <td>0</td>\n",
       "      <td>0</td>\n",
       "      <td>0</td>\n",
       "      <td>0</td>\n",
       "      <td>0</td>\n",
       "    </tr>\n",
       "    <tr>\n",
       "      <th>3</th>\n",
       "      <td>604000.0</td>\n",
       "      <td>4</td>\n",
       "      <td>3.00</td>\n",
       "      <td>1960.0</td>\n",
       "      <td>5000.0</td>\n",
       "      <td>1.0</td>\n",
       "      <td>0</td>\n",
       "      <td>3</td>\n",
       "      <td>7</td>\n",
       "      <td>1050.0</td>\n",
       "      <td>...</td>\n",
       "      <td>522748.463878</td>\n",
       "      <td>0</td>\n",
       "      <td>0</td>\n",
       "      <td>0</td>\n",
       "      <td>0</td>\n",
       "      <td>1</td>\n",
       "      <td>0</td>\n",
       "      <td>0</td>\n",
       "      <td>0</td>\n",
       "      <td>0</td>\n",
       "    </tr>\n",
       "    <tr>\n",
       "      <th>4</th>\n",
       "      <td>510000.0</td>\n",
       "      <td>3</td>\n",
       "      <td>2.00</td>\n",
       "      <td>1680.0</td>\n",
       "      <td>8080.0</td>\n",
       "      <td>1.0</td>\n",
       "      <td>0</td>\n",
       "      <td>2</td>\n",
       "      <td>8</td>\n",
       "      <td>1680.0</td>\n",
       "      <td>...</td>\n",
       "      <td>635886.027211</td>\n",
       "      <td>0</td>\n",
       "      <td>0</td>\n",
       "      <td>0</td>\n",
       "      <td>0</td>\n",
       "      <td>0</td>\n",
       "      <td>0</td>\n",
       "      <td>1</td>\n",
       "      <td>0</td>\n",
       "      <td>0</td>\n",
       "    </tr>\n",
       "  </tbody>\n",
       "</table>\n",
       "<p>5 rows × 30 columns</p>\n",
       "</div>"
      ],
      "text/plain": [
       "   Sale_Price_x  No of Bedrooms  No of Bathrooms  Flat Area (in Sqft)  \\\n",
       "0      221900.0               3             1.00               1180.0   \n",
       "1      538000.0               3             2.25               2570.0   \n",
       "2      180000.0               2             1.00                770.0   \n",
       "3      604000.0               4             3.00               1960.0   \n",
       "4      510000.0               3             2.00               1680.0   \n",
       "\n",
       "   Lot Area (in Sqft)  No of Floors  No_of_Times_Visited  \\\n",
       "0              5650.0           1.0                    0   \n",
       "1              7242.0           2.0                    0   \n",
       "2             10000.0           1.0                    0   \n",
       "3              5000.0           1.0                    0   \n",
       "4              8080.0           1.0                    0   \n",
       "\n",
       "   Condition_of_the_House  Overall Grade  \\\n",
       "0                       2              7   \n",
       "1                       2              7   \n",
       "2                       2              6   \n",
       "3                       3              7   \n",
       "4                       2              8   \n",
       "\n",
       "   Area of the House from Basement (in Sqft)  ...   Sale_Price_y  \\\n",
       "0                                     1180.0  ...  305643.767176   \n",
       "1                                     2170.0  ...  453284.856098   \n",
       "2                                      770.0  ...  456867.491166   \n",
       "3                                     1050.0  ...  522748.463878   \n",
       "4                                     1680.0  ...  635886.027211   \n",
       "\n",
       "   Zipcode_table_Zipcode_2  Zipcode_table_Zipcode_3  Zipcode_table_Zipcode_4  \\\n",
       "0                        1                        0                        0   \n",
       "1                        0                        0                        1   \n",
       "2                        0                        0                        1   \n",
       "3                        0                        0                        0   \n",
       "4                        0                        0                        0   \n",
       "\n",
       "   Zipcode_table_Zipcode_5  Zipcode_table_Zipcode_6  Zipcode_table_Zipcode_7  \\\n",
       "0                        0                        0                        0   \n",
       "1                        0                        0                        0   \n",
       "2                        0                        0                        0   \n",
       "3                        0                        1                        0   \n",
       "4                        0                        0                        0   \n",
       "\n",
       "   Zipcode_table_Zipcode_8  Zipcode_table_Zipcode_9  Zipcode_table_Zipcode_10  \n",
       "0                        0                        0                         0  \n",
       "1                        0                        0                         0  \n",
       "2                        0                        0                         0  \n",
       "3                        0                        0                         0  \n",
       "4                        1                        0                         0  \n",
       "\n",
       "[5 rows x 30 columns]"
      ]
     },
     "execution_count": 98,
     "metadata": {},
     "output_type": "execute_result"
    }
   ],
   "source": [
    "df.head()"
   ]
  },
  {
   "cell_type": "code",
   "execution_count": 99,
   "id": "49ea8dbb",
   "metadata": {},
   "outputs": [],
   "source": [
    "df.drop('Sale_Price_y',axis=1,inplace=True)"
   ]
  },
  {
   "cell_type": "code",
   "execution_count": 100,
   "id": "8b1a4545",
   "metadata": {},
   "outputs": [
    {
     "data": {
      "text/html": [
       "<div>\n",
       "<style scoped>\n",
       "    .dataframe tbody tr th:only-of-type {\n",
       "        vertical-align: middle;\n",
       "    }\n",
       "\n",
       "    .dataframe tbody tr th {\n",
       "        vertical-align: top;\n",
       "    }\n",
       "\n",
       "    .dataframe thead th {\n",
       "        text-align: right;\n",
       "    }\n",
       "</style>\n",
       "<table border=\"1\" class=\"dataframe\">\n",
       "  <thead>\n",
       "    <tr style=\"text-align: right;\">\n",
       "      <th></th>\n",
       "      <th>Sale_Price_x</th>\n",
       "      <th>No of Bedrooms</th>\n",
       "      <th>No of Bathrooms</th>\n",
       "      <th>Flat Area (in Sqft)</th>\n",
       "      <th>Lot Area (in Sqft)</th>\n",
       "      <th>No of Floors</th>\n",
       "      <th>No_of_Times_Visited</th>\n",
       "      <th>Condition_of_the_House</th>\n",
       "      <th>Overall Grade</th>\n",
       "      <th>Area of the House from Basement (in Sqft)</th>\n",
       "      <th>...</th>\n",
       "      <th>house_is</th>\n",
       "      <th>Zipcode_table_Zipcode_2</th>\n",
       "      <th>Zipcode_table_Zipcode_3</th>\n",
       "      <th>Zipcode_table_Zipcode_4</th>\n",
       "      <th>Zipcode_table_Zipcode_5</th>\n",
       "      <th>Zipcode_table_Zipcode_6</th>\n",
       "      <th>Zipcode_table_Zipcode_7</th>\n",
       "      <th>Zipcode_table_Zipcode_8</th>\n",
       "      <th>Zipcode_table_Zipcode_9</th>\n",
       "      <th>Zipcode_table_Zipcode_10</th>\n",
       "    </tr>\n",
       "  </thead>\n",
       "  <tbody>\n",
       "    <tr>\n",
       "      <th>17026</th>\n",
       "      <td>425000.0</td>\n",
       "      <td>3</td>\n",
       "      <td>2.25</td>\n",
       "      <td>1740.0</td>\n",
       "      <td>9682.0</td>\n",
       "      <td>1.0</td>\n",
       "      <td>0</td>\n",
       "      <td>3</td>\n",
       "      <td>8</td>\n",
       "      <td>1740.0</td>\n",
       "      <td>...</td>\n",
       "      <td>1</td>\n",
       "      <td>0</td>\n",
       "      <td>0</td>\n",
       "      <td>1</td>\n",
       "      <td>0</td>\n",
       "      <td>0</td>\n",
       "      <td>0</td>\n",
       "      <td>0</td>\n",
       "      <td>0</td>\n",
       "      <td>0</td>\n",
       "    </tr>\n",
       "  </tbody>\n",
       "</table>\n",
       "<p>1 rows × 29 columns</p>\n",
       "</div>"
      ],
      "text/plain": [
       "       Sale_Price_x  No of Bedrooms  No of Bathrooms  Flat Area (in Sqft)  \\\n",
       "17026      425000.0               3             2.25               1740.0   \n",
       "\n",
       "       Lot Area (in Sqft)  No of Floors  No_of_Times_Visited  \\\n",
       "17026              9682.0           1.0                    0   \n",
       "\n",
       "       Condition_of_the_House  Overall Grade  \\\n",
       "17026                       3              8   \n",
       "\n",
       "       Area of the House from Basement (in Sqft)  ...  house_is  \\\n",
       "17026                                     1740.0  ...         1   \n",
       "\n",
       "       Zipcode_table_Zipcode_2  Zipcode_table_Zipcode_3  \\\n",
       "17026                        0                        0   \n",
       "\n",
       "       Zipcode_table_Zipcode_4  Zipcode_table_Zipcode_5  \\\n",
       "17026                        1                        0   \n",
       "\n",
       "       Zipcode_table_Zipcode_6  Zipcode_table_Zipcode_7  \\\n",
       "17026                        0                        0   \n",
       "\n",
       "       Zipcode_table_Zipcode_8  Zipcode_table_Zipcode_9  \\\n",
       "17026                        0                        0   \n",
       "\n",
       "       Zipcode_table_Zipcode_10  \n",
       "17026                         0  \n",
       "\n",
       "[1 rows x 29 columns]"
      ]
     },
     "execution_count": 100,
     "metadata": {},
     "output_type": "execute_result"
    }
   ],
   "source": [
    "df.sample()"
   ]
  },
  {
   "cell_type": "code",
   "execution_count": 101,
   "id": "5fb67902",
   "metadata": {},
   "outputs": [
    {
     "data": {
      "text/plain": [
       "Sale_Price_x                                 float64\n",
       "No of Bedrooms                                 int64\n",
       "No of Bathrooms                              float64\n",
       "Flat Area (in Sqft)                          float64\n",
       "Lot Area (in Sqft)                           float64\n",
       "No of Floors                                 float64\n",
       "No_of_Times_Visited                            int64\n",
       "Condition_of_the_House                         int64\n",
       "Overall Grade                                  int64\n",
       "Area of the House from Basement (in Sqft)    float64\n",
       "Basement Area (in Sqft)                        int64\n",
       "Age of House (in Years)                        int64\n",
       "Renovated Year                                 int64\n",
       "Latitude                                     float64\n",
       "Longitude                                    float64\n",
       "Living Area after Renovation (in Sqft)       float64\n",
       "Lot Area after Renovation (in Sqft)            int64\n",
       "no_of_years(house sold)                        int64\n",
       "is_renovated                                   int32\n",
       "house_is                                       int64\n",
       "Zipcode_table_Zipcode_2                        uint8\n",
       "Zipcode_table_Zipcode_3                        uint8\n",
       "Zipcode_table_Zipcode_4                        uint8\n",
       "Zipcode_table_Zipcode_5                        uint8\n",
       "Zipcode_table_Zipcode_6                        uint8\n",
       "Zipcode_table_Zipcode_7                        uint8\n",
       "Zipcode_table_Zipcode_8                        uint8\n",
       "Zipcode_table_Zipcode_9                        uint8\n",
       "Zipcode_table_Zipcode_10                       uint8\n",
       "dtype: object"
      ]
     },
     "execution_count": 101,
     "metadata": {},
     "output_type": "execute_result"
    }
   ],
   "source": [
    "df.dtypes"
   ]
  },
  {
   "cell_type": "code",
   "execution_count": 102,
   "id": "d264e3e4",
   "metadata": {},
   "outputs": [],
   "source": [
    "x = df.drop('Sale_Price_x',axis=1)\n",
    "y = df.iloc[:,0]"
   ]
  },
  {
   "cell_type": "markdown",
   "id": "2ea33a66",
   "metadata": {},
   "source": [
    "## calculating VIF "
   ]
  },
  {
   "cell_type": "code",
   "execution_count": 103,
   "id": "ca8916c6",
   "metadata": {},
   "outputs": [],
   "source": [
    "from statsmodels.stats.outliers_influence import variance_inflation_factor"
   ]
  },
  {
   "cell_type": "code",
   "execution_count": 104,
   "id": "e2d95d5d",
   "metadata": {},
   "outputs": [],
   "source": [
    "vif_data = x"
   ]
  },
  {
   "cell_type": "code",
   "execution_count": 105,
   "id": "8d8ee61b",
   "metadata": {},
   "outputs": [],
   "source": [
    "vif = pd.Series([variance_inflation_factor(vif_data.values,i) for i in range(vif_data.shape[1])],index = vif_data.columns)"
   ]
  },
  {
   "cell_type": "code",
   "execution_count": 106,
   "id": "2402f8c4",
   "metadata": {},
   "outputs": [
    {
     "data": {
      "text/plain": [
       "No of Bedrooms                                   23.059184\n",
       "No of Bathrooms                                  28.928478\n",
       "Flat Area (in Sqft)                            9083.703280\n",
       "Lot Area (in Sqft)                                2.369883\n",
       "No of Floors                                     18.086831\n",
       "No_of_Times_Visited                               1.353666\n",
       "Condition_of_the_House                           56.661279\n",
       "Overall Grade                                   141.051380\n",
       "Area of the House from Basement (in Sqft)      6831.566054\n",
       "Basement Area (in Sqft)                         495.353739\n",
       "Age of House (in Years)                          15.188396\n",
       "Renovated Year                                16771.668935\n",
       "Latitude                                     287318.294047\n",
       "Longitude                                    285527.201788\n",
       "Living Area after Renovation (in Sqft)           27.965464\n",
       "Lot Area after Renovation (in Sqft)               2.588588\n",
       "no_of_years(house sold)                         131.374641\n",
       "is_renovated                                  16771.630774\n",
       "house_is                                         21.113187\n",
       "Zipcode_table_Zipcode_2                           3.173672\n",
       "Zipcode_table_Zipcode_3                           3.530370\n",
       "Zipcode_table_Zipcode_4                           3.580251\n",
       "Zipcode_table_Zipcode_5                           3.392141\n",
       "Zipcode_table_Zipcode_6                           4.913437\n",
       "Zipcode_table_Zipcode_7                           4.627917\n",
       "Zipcode_table_Zipcode_8                           3.854464\n",
       "Zipcode_table_Zipcode_9                           2.225003\n",
       "Zipcode_table_Zipcode_10                          1.800997\n",
       "dtype: float64"
      ]
     },
     "execution_count": 106,
     "metadata": {},
     "output_type": "execute_result"
    }
   ],
   "source": [
    "vif"
   ]
  },
  {
   "cell_type": "code",
   "execution_count": 107,
   "id": "d73daab0",
   "metadata": {},
   "outputs": [],
   "source": [
    "def mc_remover(data):\n",
    "    vif = pd.Series([variance_inflation_factor(vif_data.values,i) for i in range(vif_data.shape[1])],index = vif_data.columns)\n",
    "    if vif.max()>5:\n",
    "        print(vif[vif==vif.max()].index[0],'has removed')\n",
    "        data = data.drop(columns=[vif[vif==vif.max()].index[0]])\n",
    "        return data\n",
    "    else:\n",
    "        print('no multicollinearity')\n",
    "        return data"
   ]
  },
  {
   "cell_type": "code",
   "execution_count": 108,
   "id": "3f3fcc86",
   "metadata": {
    "scrolled": false
   },
   "outputs": [
    {
     "name": "stdout",
     "output_type": "stream",
     "text": [
      "Latitude has removed\n",
      "is_renovated has removed\n",
      "Flat Area (in Sqft) has removed\n"
     ]
    }
   ],
   "source": [
    "for i in range(3):\n",
    "    vif_data = mc_remover(vif_data)"
   ]
  },
  {
   "cell_type": "code",
   "execution_count": 109,
   "id": "24a1c8b1",
   "metadata": {},
   "outputs": [],
   "source": [
    "vif_data['sale_price'] = df['Sale_Price_x']"
   ]
  },
  {
   "cell_type": "code",
   "execution_count": 110,
   "id": "f986961f",
   "metadata": {
    "scrolled": true
   },
   "outputs": [
    {
     "data": {
      "text/html": [
       "<div>\n",
       "<style scoped>\n",
       "    .dataframe tbody tr th:only-of-type {\n",
       "        vertical-align: middle;\n",
       "    }\n",
       "\n",
       "    .dataframe tbody tr th {\n",
       "        vertical-align: top;\n",
       "    }\n",
       "\n",
       "    .dataframe thead th {\n",
       "        text-align: right;\n",
       "    }\n",
       "</style>\n",
       "<table border=\"1\" class=\"dataframe\">\n",
       "  <thead>\n",
       "    <tr style=\"text-align: right;\">\n",
       "      <th></th>\n",
       "      <th>No of Bedrooms</th>\n",
       "      <th>No of Bathrooms</th>\n",
       "      <th>Lot Area (in Sqft)</th>\n",
       "      <th>No of Floors</th>\n",
       "      <th>No_of_Times_Visited</th>\n",
       "      <th>Condition_of_the_House</th>\n",
       "      <th>Overall Grade</th>\n",
       "      <th>Area of the House from Basement (in Sqft)</th>\n",
       "      <th>Basement Area (in Sqft)</th>\n",
       "      <th>Age of House (in Years)</th>\n",
       "      <th>...</th>\n",
       "      <th>Zipcode_table_Zipcode_2</th>\n",
       "      <th>Zipcode_table_Zipcode_3</th>\n",
       "      <th>Zipcode_table_Zipcode_4</th>\n",
       "      <th>Zipcode_table_Zipcode_5</th>\n",
       "      <th>Zipcode_table_Zipcode_6</th>\n",
       "      <th>Zipcode_table_Zipcode_7</th>\n",
       "      <th>Zipcode_table_Zipcode_8</th>\n",
       "      <th>Zipcode_table_Zipcode_9</th>\n",
       "      <th>Zipcode_table_Zipcode_10</th>\n",
       "      <th>sale_price</th>\n",
       "    </tr>\n",
       "  </thead>\n",
       "  <tbody>\n",
       "    <tr>\n",
       "      <th>16681</th>\n",
       "      <td>4</td>\n",
       "      <td>2.25</td>\n",
       "      <td>7203.0</td>\n",
       "      <td>1.0</td>\n",
       "      <td>0</td>\n",
       "      <td>2</td>\n",
       "      <td>7</td>\n",
       "      <td>1110.0</td>\n",
       "      <td>680</td>\n",
       "      <td>45</td>\n",
       "      <td>...</td>\n",
       "      <td>0</td>\n",
       "      <td>1</td>\n",
       "      <td>0</td>\n",
       "      <td>0</td>\n",
       "      <td>0</td>\n",
       "      <td>0</td>\n",
       "      <td>0</td>\n",
       "      <td>0</td>\n",
       "      <td>0</td>\n",
       "      <td>430000.0</td>\n",
       "    </tr>\n",
       "  </tbody>\n",
       "</table>\n",
       "<p>1 rows × 26 columns</p>\n",
       "</div>"
      ],
      "text/plain": [
       "       No of Bedrooms  No of Bathrooms  Lot Area (in Sqft)  No of Floors  \\\n",
       "16681               4             2.25              7203.0           1.0   \n",
       "\n",
       "       No_of_Times_Visited  Condition_of_the_House  Overall Grade  \\\n",
       "16681                    0                       2              7   \n",
       "\n",
       "       Area of the House from Basement (in Sqft)  Basement Area (in Sqft)  \\\n",
       "16681                                     1110.0                      680   \n",
       "\n",
       "       Age of House (in Years)  ...  Zipcode_table_Zipcode_2  \\\n",
       "16681                       45  ...                        0   \n",
       "\n",
       "       Zipcode_table_Zipcode_3  Zipcode_table_Zipcode_4  \\\n",
       "16681                        1                        0   \n",
       "\n",
       "       Zipcode_table_Zipcode_5  Zipcode_table_Zipcode_6  \\\n",
       "16681                        0                        0   \n",
       "\n",
       "       Zipcode_table_Zipcode_7  Zipcode_table_Zipcode_8  \\\n",
       "16681                        0                        0   \n",
       "\n",
       "       Zipcode_table_Zipcode_9  Zipcode_table_Zipcode_10  sale_price  \n",
       "16681                        0                         0    430000.0  \n",
       "\n",
       "[1 rows x 26 columns]"
      ]
     },
     "execution_count": 110,
     "metadata": {},
     "output_type": "execute_result"
    }
   ],
   "source": [
    "vif_data.sample()"
   ]
  },
  {
   "cell_type": "code",
   "execution_count": 111,
   "id": "05043efe",
   "metadata": {},
   "outputs": [
    {
     "data": {
      "text/plain": [
       "Index(['No of Bedrooms', 'No of Bathrooms', 'Lot Area (in Sqft)',\n",
       "       'No of Floors', 'No_of_Times_Visited', 'Condition_of_the_House',\n",
       "       'Overall Grade', 'Area of the House from Basement (in Sqft)',\n",
       "       'Basement Area (in Sqft)', 'Age of House (in Years)', 'Renovated Year',\n",
       "       'Longitude', 'Living Area after Renovation (in Sqft)',\n",
       "       'Lot Area after Renovation (in Sqft)', 'no_of_years(house sold)',\n",
       "       'house_is', 'Zipcode_table_Zipcode_2', 'Zipcode_table_Zipcode_3',\n",
       "       'Zipcode_table_Zipcode_4', 'Zipcode_table_Zipcode_5',\n",
       "       'Zipcode_table_Zipcode_6', 'Zipcode_table_Zipcode_7',\n",
       "       'Zipcode_table_Zipcode_8', 'Zipcode_table_Zipcode_9',\n",
       "       'Zipcode_table_Zipcode_10', 'sale_price'],\n",
       "      dtype='object')"
      ]
     },
     "execution_count": 111,
     "metadata": {},
     "output_type": "execute_result"
    }
   ],
   "source": [
    "vif_data.columns"
   ]
  },
  {
   "cell_type": "code",
   "execution_count": 112,
   "id": "6da4b9a8",
   "metadata": {},
   "outputs": [],
   "source": [
    "vif_data.to_csv('vif_data.csv')"
   ]
  },
  {
   "cell_type": "code",
   "execution_count": 113,
   "id": "70a8ab2e",
   "metadata": {},
   "outputs": [
    {
     "data": {
      "text/plain": [
       "(21609, 26)"
      ]
     },
     "execution_count": 113,
     "metadata": {},
     "output_type": "execute_result"
    }
   ],
   "source": [
    "vif_data.shape"
   ]
  },
  {
   "cell_type": "code",
   "execution_count": null,
   "id": "a9062817",
   "metadata": {},
   "outputs": [],
   "source": []
  }
 ],
 "metadata": {
  "kernelspec": {
   "display_name": "Python 3 (ipykernel)",
   "language": "python",
   "name": "python3"
  },
  "language_info": {
   "codemirror_mode": {
    "name": "ipython",
    "version": 3
   },
   "file_extension": ".py",
   "mimetype": "text/x-python",
   "name": "python",
   "nbconvert_exporter": "python",
   "pygments_lexer": "ipython3",
   "version": "3.9.7"
  }
 },
 "nbformat": 4,
 "nbformat_minor": 5
}
